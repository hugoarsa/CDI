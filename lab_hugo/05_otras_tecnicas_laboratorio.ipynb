{
 "cells": [
  {
   "cell_type": "markdown",
   "metadata": {},
   "source": [
    "## Código de Rice"
   ]
  },
  {
   "cell_type": "code",
   "execution_count": 7,
   "metadata": {},
   "outputs": [
    {
     "name": "stdout",
     "output_type": "stream",
     "text": [
      "Correcto\n",
      "Código de Rice para la lista de enteros: 11111111111111111111111111111111111111111111111111111111110011111111111111111000101111111111111111111111111111111111111111010001111111111111111111111111111111110001111111111111111111110001011111111111111111111111111111111110111011111111111111111111111111111111111111111111111111110000011111111100111111111111111111111111111111111111111111110011111111111111111100010\n"
     ]
    }
   ],
   "source": [
    "def rice_encode(num, k):\n",
    "    q = num // (2**k)\n",
    "    r = num % (2**k)\n",
    "    codigo = '1' * q \n",
    "    codigo += '0'\n",
    "    codigo += format(r, '0' + str(k) + 'b')\n",
    "    return codigo\n",
    "\n",
    "def rice_encode_list(nums, k):\n",
    "    list = ''\n",
    "    for num in nums:\n",
    "        list += rice_encode(num, k)\n",
    "    return list\n",
    "\n",
    "# Ejemplo de uso:\n",
    "lista_enteros = [935, 226, 648, 531, 306, 558, 832, 151, 663, 242]\n",
    "k = 4\n",
    "prueba = \"11111111111111111111111111111111111111111111111111111111110011111111111111111000101111111111111111111111111111111111111111010001111111111111111111111111111111110001111111111111111111110001011111111111111111111111111111111110111011111111111111111111111111111111111111111111111111110000011111111100111111111111111111111111111111111111111111110011111111111111111100010\"\n",
    "\n",
    "codigo_rice = rice_encode_list(lista_enteros, k)\n",
    "if prueba == codigo_rice:\n",
    "    print(\"Correcto\")\n",
    "\n",
    "codigo_rice = rice_encode_list(lista_enteros, k)\n",
    "print(\"Código de Rice para la lista de enteros:\", codigo_rice)"
   ]
  },
  {
   "cell_type": "code",
   "execution_count": 19,
   "metadata": {},
   "outputs": [
    {
     "name": "stdout",
     "output_type": "stream",
     "text": [
      "Código de Rice para la lista de enteros: 10111011110011000011111111111111111111111111111111111111111111111111111111111111111111111111111111111111111111111111111111111111111111111111111111111111111111111111111111111111111111111111111111111111111111111111111111111111111111111111111111111111111111111111111111111111111111111111111111111111111111111111111111111111111111111111111111111111111111111111111111111111111111111111111111111111111111111111111111111111111111111111111111111111111111111111111111111111111111111111111111111111000011111101110101000011111111111111111111111111111111111111111111111111111111111111111111111111111111111111111111111111111111111111111111111111111111111111111111111111111111111111111111111111111111111111111111111111111111111111111111111111111111111111111111111111011010010100001010110111\n"
     ]
    }
   ],
   "source": [
    "codigo_rice = rice_encode_list([15, 7, 11, 0, 3760, 55, 5, 0, 1942, 10, 8, 13, 15], 3)\n",
    "print(\"Código de Rice para la lista de enteros:\", codigo_rice)"
   ]
  },
  {
   "cell_type": "code",
   "execution_count": 60,
   "metadata": {},
   "outputs": [
    {
     "name": "stdout",
     "output_type": "stream",
     "text": [
      "5092\n",
      "[935, 226, 648, 531, 306, 558, 832, 151, 663, 242]\n"
     ]
    }
   ],
   "source": [
    "def rice_sum(code, k):\n",
    "    sum = 0\n",
    "    while code:\n",
    "        cociente = code.index('0')\n",
    "        split = cociente + 1\n",
    "        code = code[split:]\n",
    "\n",
    "        resto = int(code[:k],2)\n",
    "        code = code[k:]\n",
    "\n",
    "        num = cociente * (2 ** k) + resto\n",
    "        sum += num\n",
    "    return sum\n",
    "\n",
    "def rice_decode(code, k):\n",
    "    list = []\n",
    "    while code:\n",
    "        cociente = code.index('0')\n",
    "        split = cociente + 1\n",
    "        code = code[split:]\n",
    "\n",
    "        resto = int(code[:k],2)\n",
    "        code = code[k:]\n",
    "\n",
    "        num = cociente * (2 ** k) + resto\n",
    "        list += [num]\n",
    "    return list\n",
    "\n",
    "code = \"11111111111111111111111111111111111111111111111111111111110011111111111111111000101111111111111111111111111111111111111111010001111111111111111111111111111111110001111111111111111111110001011111111111111111111111111111111110111011111111111111111111111111111111111111111111111111110000011111111100111111111111111111111111111111111111111111110011111111111111111100010\"\n",
    "k = 4\n",
    "\n",
    "sum = rice_sum(code, k)\n",
    "print(sum)\n",
    "print(rice_decode(code, k))"
   ]
  },
  {
   "cell_type": "code",
   "execution_count": 20,
   "metadata": {},
   "outputs": [
    {
     "name": "stdout",
     "output_type": "stream",
     "text": [
      "Suma decodificada: 6583\n"
     ]
    }
   ],
   "source": [
    "code = \"10101001110000001101011111111111111111111111111111111111111111111111111111111111111111111111111111111110001111111111111111111111111111111111111111111111111111111111111111111111111111111111111111111111111111111111111111111111111111111111111111111111111111111111111111111111111111111111111111111111111111111111111111111111111111111111111111111111111111111111111111111111111111111111111111111111111111111111111111111111111111111111111111111111111111111111111111111111111111111111111111111111111111111111111111111111111111111111111111111111111111111111111111111111111111111111111111111111111111111111111111111111111111111111111111111111111111111111111111111111111111111111111111111111111111111111111111111111111111111111111111111111111111111111111111111111111111111111111111111111111111111111111111111111111111111111111111111111111111111111111111111111111111111111111111111111111111111111111111111111111111111111111111111111111111111111111111111111111111111111111111111111111111111111111111111111111111111111111111111111111111111111111111111111111111111111111111111111111111111111111111111111111111111101110000101100010011111111111111111111111111111111111111111111111111111111111111111111111111111111111111111111111111111111111111111111111111111111111111111111111111111111111111111111111111111111111111111111111111111111111111111111111111111111111111111111111111111111111111111111111111111111111111111111111111111111111111111111111111111111111111111111111111111111111111111111111111111111111111111111111111111111111111111111111111111111111111111111111111111111111111111111111111111111111111111111111111111111111111111111111111111111111111111111111111111111111111111111111111111111000\"\n",
    "k = 2\n",
    "\n",
    "sum = rice_sum(code, k)\n",
    "print(\"Suma decodificada:\", sum)"
   ]
  },
  {
   "cell_type": "markdown",
   "metadata": {},
   "source": [
    "## Move to front"
   ]
  },
  {
   "cell_type": "code",
   "execution_count": 30,
   "metadata": {},
   "outputs": [
    {
     "name": "stdout",
     "output_type": "stream",
     "text": [
      "[13, 10, 2, 2, 3, 1, 1, 2, 2, 7, 2, 2, 4, 1, 4, 3, 2, 21, 7, 11, 16]\n",
      "mi mama me mima mucho\n"
     ]
    }
   ],
   "source": [
    "def mtf_encode(texto, alfabeto):\n",
    "    codigo = []\n",
    " \n",
    "    for char in texto:\n",
    "        codigo.append(alfabeto.index(char))\n",
    "        ind = alfabeto.index(char)\n",
    "        alfabeto[1:ind + 1] = alfabeto[:ind]\n",
    "        alfabeto[0] = char\n",
    "    \n",
    "    return codigo\n",
    "\n",
    "def mtf_decode(codigo, alfabeto):\n",
    "    texto = \"\"\n",
    " \n",
    "    for ind in codigo:\n",
    "        char = alfabeto[ind]\n",
    "        texto += char\n",
    "        alfabeto[1:ind + 1] = alfabeto[:ind]\n",
    "        alfabeto[0] = char\n",
    "    \n",
    "    return texto\n",
    "\n",
    "\n",
    "text = \"mi mama me mima mucho\"\n",
    "alfabeto =  [' ', 'a', 'b', 'c', 'd', 'e', 'f', 'g', 'h', 'i', 'j', 'k', 'l', 'm', 'n', 'o', 'p', 'q', 'r', 's', 't', 'u', 'v', 'w', 'x', 'y', 'z']\n",
    "code = mtf_encode(text,alfabeto)\n",
    "print(code)\n",
    "alfabeto =  [' ', 'a', 'b', 'c', 'd', 'e', 'f', 'g', 'h', 'i', 'j', 'k', 'l', 'm', 'n', 'o', 'p', 'q', 'r', 's', 't', 'u', 'v', 'w', 'x', 'y', 'z']\n",
    "decoded = mtf_decode(code,alfabeto)\n",
    "print(decoded)"
   ]
  },
  {
   "cell_type": "code",
   "execution_count": 32,
   "metadata": {},
   "outputs": [
    {
     "name": "stdout",
     "output_type": "stream",
     "text": [
      "[17, 29, 27, 3, 19, 32, 3, 0, 36, 1, 38, 5, 17, 43, 28, 35, 6, 40, 15, 7, 23, 15, 5, 10, 31, 2, 2, 41, 18, 7, 25, 7, 6, 40, 7, 37, 3, 7, 7, 32, 3, 19, 0, 14, 4, 33, 27, 28, 1, 28, 34, 5, 5, 29, 0, 0, 3, 3, 32, 23, 40, 45, 4, 18, 39, 2, 22, 31, 17, 16, 1, 4, 20, 21, 3, 11, 7, 5, 2, 11, 39, 3, 1, 43, 9, 6, 13, 5, 10, 8, 21, 0, 10, 11, 41, 2, 9, 7, 31, 3, 5, 1, 3, 4, 5, 6, 4, 13, 11, 6, 9, 44, 5, 5, 13, 2, 9, 6, 17, 17, 2, 43, 9, 43, 19, 14, 11, 10, 15, 18, 33, 10, 4, 5, 20, 18, 3, 15, 0, 5, 8, 12, 34, 5, 7, 5, 16, 17, 19, 3, 7, 9, 15, 8, 12, 5, 18, 8, 12, 4, 8, 17, 7, 9, 8, 10, 3, 3, 2, 17, 10, 1, 4, 13, 6, 5, 13, 2, 2, 13, 5, 3, 12, 2, 19, 6, 16, 15, 8, 10, 4, 15, 15, 9, 18, 11, 13, 7, 15, 11, 9, 16, 9, 11, 6, 4, 11, 18, 10, 33, 14, 7, 3, 21, 18, 18, 17, 1, 18, 1, 2, 5, 6, 5, 4, 4, 1, 4, 6, 13, 16, 3, 3, 13, 6, 20, 4, 15, 10, 2, 6, 8, 8, 3, 13, 10, 7, 15, 22, 5, 19, 13, 4, 6, 4, 7, 20, 2, 9, 20, 7, 12, 39, 23, 3, 19, 14, 12, 14, 10, 8, 6, 18, 18, 15, 2, 13, 6, 9, 9, 2, 15, 14, 20, 8, 4, 22, 19, 7, 15, 2, 10, 26, 6, 39, 23, 9, 3, 16, 9, 12, 21, 4, 38, 6, 6, 2, 5, 3, 4, 6, 5, 24, 3, 17, 4, 2, 17, 7, 17, 8, 4, 17, 16, 7, 17, 2, 17, 5, 20, 7, 19, 1, 3, 13, 17, 3, 3, 15, 9, 3, 6, 13, 4, 0, 20, 4, 4, 10, 7, 5, 26, 2, 10, 10, 7, 3, 11, 6, 8, 9, 24, 19, 12, 14, 16, 10, 14, 11, 4, 16, 25, 3, 15, 15, 7, 3, 14, 14, 8, 8, 24, 6, 14, 12, 13, 6, 12, 10, 41, 3, 21, 12, 21, 13, 6, 42, 4, 9, 23, 11, 13, 26, 7, 40, 17, 15, 3, 24, 12, 7, 21, 20, 5, 5, 5, 13, 28, 4, 22, 6, 8, 3, 7, 15, 17, 10, 6, 6, 11, 7, 7, 19, 16, 5, 7, 5, 12, 6, 2, 11, 9, 6, 3, 9, 9, 14, 10, 17, 2, 22, 6, 8, 6, 14, 0, 13, 29, 5, 12, 6, 12, 3, 27, 15, 8, 16, 12, 8, 11, 18, 28, 9, 9, 15, 15, 11, 10, 7, 15, 7, 4, 18, 2, 11, 15, 15, 3, 23, 9, 8, 11, 15, 6, 3, 0, 6, 44, 6, 16, 13, 11, 7, 2, 18, 7, 40, 3, 6, 13, 1, 22, 5, 21, 17, 11, 21, 22, 5, 16, 5, 14, 14, 4, 2, 11, 3, 3, 28, 18, 7, 11, 6, 6, 9, 7, 20, 14, 6, 5, 19, 18, 6, 12, 9, 5, 3, 8, 2, 0, 20, 15, 2, 4, 17, 17, 10, 11, 6, 6, 3, 11, 7, 12, 14, 14, 3, 30, 7, 5, 19, 24, 5, 4, 2, 1, 9, 3, 20, 16, 2, 15, 8, 11, 8, 4, 6, 6, 2, 18, 18, 10, 3, 15, 9, 5, 0, 4, 12, 29, 15, 5, 11, 8, 15, 12, 7, 30, 9, 2, 16, 28, 7, 42, 21, 21, 17, 4, 13, 7, 2, 3, 9, 2, 3, 4, 12, 3, 2, 16, 2, 3, 13, 12, 13, 4, 4, 8, 4, 1, 3, 19, 6, 7, 23, 12, 6, 10, 23, 20, 18, 10, 7, 10, 21, 8, 12, 4, 12, 2, 6, 3, 6, 2, 24, 17, 9, 17, 6, 26, 19, 11, 8, 17, 12, 2, 2, 9, 4, 3, 13, 2, 18, 3, 27, 18, 11, 17, 14, 5, 23, 18, 9, 16, 0, 1, 3, 4, 25, 9, 19, 1, 11, 6, 8, 8, 7, 5, 6, 8, 3, 13, 16, 7, 8, 14, 3, 11, 3, 8, 7, 5, 15, 6, 3, 3, 5, 7, 1, 3, 9, 15, 4, 4, 21, 17, 4, 10, 15, 8, 4, 11, 7, 6, 8, 5, 17, 15, 21, 14, 19, 6, 18, 24, 8, 32, 12, 12, 3, 9, 8, 8, 11, 21, 5, 2, 12, 6, 12, 7, 7, 8, 1, 12, 8, 5, 21, 2, 15, 12, 7, 3, 5, 11, 19, 3, 44, 17, 20, 9, 7, 12, 4, 15, 20, 8, 6, 4, 22, 12, 15, 5, 14, 8, 13, 3, 15, 12, 15, 0, 1, 22, 9, 6, 6, 12, 9, 9, 2, 3, 4, 14, 4, 19, 4, 6, 9, 5, 12, 9, 5, 7, 15, 9, 3, 3, 12, 0, 2, 6, 18, 17, 11, 4, 5, 17, 30, 1, 10, 23, 5, 18, 15, 15, 10, 15, 5, 25, 4, 5, 16, 14, 7, 7, 5, 15, 29, 9, 19, 9, 2, 6, 45, 4, 15, 15, 10, 3, 3, 7, 4, 45, 8, 5, 19, 9, 3, 15, 19, 20, 11, 5, 5, 10, 18, 2, 8, 12, 15, 3, 7, 6, 3, 11, 10, 21, 6, 23, 19, 6, 8, 6, 12, 3, 6, 23, 14, 3, 3, 10, 3, 29, 6, 18, 5, 26, 13, 2, 8, 14, 14, 7, 4, 23, 2, 21, 12, 2, 23, 7, 17, 9, 8, 9, 14, 17, 19, 19, 16, 11, 28, 8, 28, 6, 4, 3, 21, 9, 15, 0, 4, 15, 31, 18, 5, 19, 8, 8, 3, 20, 19, 19, 9, 10, 1, 26, 8, 19, 8, 9, 6, 4, 3, 20, 2, 23, 4, 5, 0, 3, 5, 5, 2, 24, 5, 7, 5, 6, 3, 8, 6, 8, 5, 8, 3, 5, 2, 0, 1, 20, 17, 21, 6, 9, 0, 16, 8, 3, 1, 11, 2, 22, 20, 7, 9, 10, 20, 7, 4, 4, 20, 5, 17, 10, 10, 5, 5, 3, 17, 6, 0, 3, 1, 6, 17, 5, 7, 1, 16, 5, 5, 28, 5, 9, 17, 7, 3, 3, 9, 3, 3, 4, 0, 7, 5, 5, 4, 2, 4, 9, 6, 20, 9, 2, 6, 6, 2, 2, 3, 6, 12, 11, 2, 5, 20, 7, 10, 11, 8, 5, 3, 8, 3, 4, 17, 8, 4, 11, 8, 23]\n",
      "The Sleeper Awakes, H(erbert) G(eorge) Wells [1910] [...] Do you mean to say--? I had heard the Sleeper was rescued, said Graham. But--to come back a minute. Are you sure Ostrog has him? He won't let him go, said the old man. And the Sleeper. Are you sure he is not genuine? I have never heard-- So all the fools think. So they think. As if there wasn't a thousand things that were never heard. I know Ostrog too well for that. Did I tell you? In a way I'm a sort of relation of Ostrog's. A sort of relation. Through my daughter-in-law. I suppose-- Well? I suppose there's no chance of this Sleeper asserting himself. I suppose he's certain to be a puppet--in Ostrog's hands or the Council's, as soon as the struggle is over.\n"
     ]
    }
   ],
   "source": [
    "text = \"The Sleeper Awakes, H(erbert) G(eorge) Wells [1910] [...] Many of these great and dusty galleries were silent avenues of machinery, endless raked out ashen furnaces testified to the revolutionary dislocation, but wherever there was work it was being done by slow-moving workers in blue canvas. The only people not in blue canvas were the overlookers of the work-places and the orange-clad Labour Police. And fresh from the flushed faces of the dancing halls, the voluntary vigours of the business quarter, Graham could note the pinched faces, the feeble muscles, and weary eyes of many of the latter-day workers. Such as he saw at work were noticeably inferior in physique to the few gaily dressed managers and forewomen who were directing their labours. The burly labourers of the old Victorian times had followed that dray horse and all such living force producers, to extinction; the place of his costly muscles was taken by some dexterous machine. The latter-day labourer, male as well as female, was essentially a machine-minder and feeder, a servant and attendant, or an artist under direction.\"\n",
    "alfabeto =  [' ', '(', ')', ',', '-', '.', '0', '1', '9', ';', 'A', 'G', 'H', 'L', 'M', 'P', 'S', 'T', 'V', 'W', '[', ']', 'a', 'b', 'c', 'd', 'e', 'f', 'g', 'h', 'i', 'k', 'l', 'm', 'n', 'o', 'p', 'q', 'r', 's', 't', 'u', 'v', 'w', 'x', 'y']\n",
    "code = mtf_encode(text,alfabeto)\n",
    "print(code)\n",
    "\n",
    "code1 = [20, 31, 29, 3, 22, 34, 3, 0, 38, 1, 39, 5, 18, 44, 30, 37, 6, 41, 16, 7, 27, 16, 5, 10, 33, 2, 2, 42, 19, 7, 29, 7, 6, 42, 7, 39, 3, 7, 7, 34, 3, 19, 0, 14, 4, 35, 28, 29, 1, 29, 36, 5, 5, 30, 0, 0, 3, 3, 34, 15, 2, 45, 2, 44, 3, 43, 14, 26, 44, 4, 23, 7, 2, 16, 5, 9, 35, 0, 36, 5, 39, 1, 35, 6, 42, 3, 3, 12, 4, 26, 5, 5, 12, 6, 6, 3, 36, 24, 3, 0, 36, 1, 8, 5, 35, 10, 15, 3, 4, 5, 3, 42, 20, 3, 13, 35, 7, 6, 8, 44, 5, 4, 34, 10, 5, 15, 1, 23, 26, 6, 41, 13, 19, 22, 0, 1, 24, 5, 17, 2, 8, 17, 4, 36, 11, 6, 38, 4, 3, 1, 6, 17, 27, 12, 11, 10, 14, 7, 39, 17, 4, 3, 28, 15, 8, 3, 21, 2, 6, 6, 4, 43, 5, 10, 5, 7, 38, 6, 21, 16, 7, 3, 3, 15, 16, 30, 4, 40, 13, 2, 27, 11, 19, 42, 15, 5, 30, 7, 3, 3, 12, 12, 12, 3, 15, 10, 29, 3, 15, 16, 7, 29, 4, 10, 10, 11, 3, 9, 12, 6, 3, 12, 9, 14, 23, 4, 23, 3, 6, 3, 11, 11, 11, 3, 31, 11, 3, 0, 31, 1, 22, 11, 6, 11, 3, 4, 3, 25, 15, 25, 3, 18, 2, 6, 6, 4, 12, 2, 2, 18, 6, 2, 16, 8, 15, 3, 20, 7, 5, 10, 8, 2, 3, 24, 6, 32, 1, 11, 20, 45, 6, 4, 7, 2, 3, 1, 14, 4, 6, 3, 6, 4, 21, 31, 0, 6, 22, 16, 2, 6, 22, 0, 2, 17, 10, 10, 3, 45, 7, 0, 6, 19, 4, 7, 7, 17, 15, 30, 23, 6, 13, 10, 2, 8, 8, 12, 22, 4, 4, 4, 10, 10, 10, 10, 6, 23, 12, 2, 6, 14, 2, 9, 9, 11, 18, 1, 4, 28, 17, 9, 13, 28, 9, 6, 5, 1, 2, 9, 16, 24, 8, 6, 8, 21, 8, 8, 8, 14, 5, 25, 8, 6, 6, 6, 8, 2, 3, 12, 13, 14, 1, 3, 9, 2, 23, 1, 4, 4, 8, 3, 8, 4, 12, 18, 6, 24, 1, 20, 10, 17, 12, 4, 30, 15, 15, 11, 6, 16, 6, 4, 3, 0, 2, 7, 14, 24, 0, 3, 21, 5, 8, 3, 7, 17, 17, 2, 16, 4, 35, 20, 19, 3, 19, 1, 6, 13, 13, 0, 3, 24, 13, 22, 27, 4, 8, 21, 2, 14, 1, 18, 2, 8, 3, 5, 24, 29, 3, 5, 1, 22, 11, 20, 15, 4, 3, 21, 2, 4, 16, 16, 8, 7, 18, 8, 15, 8, 2, 9, 2, 23, 11, 7, 11, 6, 23, 14, 5, 22, 8, 26, 1, 3, 6, 7, 8, 4, 3, 10, 2, 4, 15, 15, 15, 7, 15, 8, 15, 12, 9, 44, 25, 11, 6, 23, 17, 4, 6, 19, 21, 2, 24, 14, 7, 7, 7, 14, 16, 11, 29, 16, 16, 2, 17, 10, 24, 18, 14, 24, 1, 21, 15, 30, 0, 20, 3, 14, 11, 0, 6, 42, 3, 12, 0, 27, 4, 10, 1, 7, 10, 10, 0, 10, 3, 8, 5, 17, 18, 3, 18, 1, 26, 6, 6, 18, 8, 2, 34, 8, 19, 5, 3, 8, 5, 6, 26, 2, 11, 8, 21, 10, 4, 32, 18, 9, 0, 15, 1, 15, 5, 14, 7, 0, 4, 4, 10, 9, 14, 23, 8, 12, 4, 26, 9, 9, 12, 14, 23, 8, 20, 1, 6, 20, 16, 0, 18, 3, 9, 5, 12, 2, 20, 4, 4, 20, 4, 18, 18, 19, 17, 19, 7, 4, 11, 2, 35, 8, 2, 7, 1, 13, 14, 1, 0, 4, 7, 24, 0, 10, 10, 7, 30, 14, 6, 13, 13, 22, 16, 5, 7, 17, 15, 10, 27, 5, 5, 8, 9, 2, 10, 8, 14, 3, 45, 6, 17, 10, 19, 16, 23, 15, 13, 35, 10, 16, 3, 2, 1, 10, 0, 9, 3, 4, 4, 2, 14, 14, 14, 3, 4, 4, 15, 14, 17, 0, 13, 7, 7, 14, 8, 2, 12, 35, 5, 9, 24]\n",
    "alfabeto1 =  [' ', \"'\", '(', ')', ',', '-', '.', '0', '1', '9', '?', 'A', 'B', 'C', 'D', 'G', 'H', 'I', 'O', 'S', 'T', 'W', '[', ']', 'a', 'b', 'c', 'd', 'e', 'f', 'g', 'h', 'i', 'k', 'l', 'm', 'n', 'o', 'p', 'r', 's', 't', 'u', 'v', 'w', 'y']\n",
    "decoded = mtf_decode(code1,alfabeto1)\n",
    "print(decoded)"
   ]
  },
  {
   "cell_type": "markdown",
   "metadata": {},
   "source": [
    "## Burrows-Wheeler Transform"
   ]
  },
  {
   "cell_type": "code",
   "execution_count": 47,
   "metadata": {},
   "outputs": [
    {
     "name": "stdout",
     "output_type": "stream",
     "text": [
      "..Ee.fIT.y.r...ertH].....E.e..dsddes,,d,sndyhsoeeednyyeeeedeaet,syeeotdseeeoyye,ye,gygItkngeyhhegsedysrdtthIgdesmdt,gdgngsddysstenwe,y,rea,sd,yyddnyspsffptnpfpdhfegrosnydndDeedIdsteh,edpndteeede,rndsuedsssemeew,faee-fdeXseHKehmssestGss[.e.F E    AE HNBC   T T    W  LOA OFL ASI .         X  .  - feeefrhhee  rthrhcmvv   l   hhhthwwwtu hwwwehhh fgetoocer e   llwl      m       a     snaaaa  n  naaio   oaeneeaannenneeneenenneeeeeleoii innloou nr- nrraaaoehhhhhhhhhhhhhhvhkhshhtdmshrmhhvdrmmlmvlllengmmbbbdhBnrhrprkddhktsckrndrrbrbhhWrh kphzeibpPetvvtwhtvdbtyhcgxiyirhhBhvvgkrhh  boooooll      n nnnnnnnnniai nncttcttc   c-- sctttTtttttttttttttttTttTt  ct tTTstt TTetwccst  pstorddttr   hvahtdplccrss   hheumd  slwwwsftuoocococws   euppggaol-oeab  iloddeloer-a a      sA e   eieIeeoiieaauaaaaoiaaaaaaeaieiuiiiiiiiioii   ioaiiwtwtbbpDobbb     vomorWrvr ymmltlheettftfMnnrhc br lnttdiuuuopa  eoo o ioemsn oooieecue aaaeeoearhtcau fteab fpdaeeetaetdeatldaeepeedpedprrterel eeusu e  eiI  ia-i  nee oesiuaaaauuneisssiaasitsiiai                         o  ssai n s-c   soauaas  paqrqqoh    ot bboohddioiolin aaeaookoo   a     attabeaatlmmalldmlveaeeeo\n",
      "278\n"
     ]
    }
   ],
   "source": [
    "def bwt_encode(s):\n",
    "    table = sorted(s[i:] + s[:i] for i in range(len(s)))\n",
    "    last_column = [row[-1:] for row in table] \n",
    "    return \"\".join(last_column), table.index(s)\n",
    "\n",
    "\n",
    "text = \"The Island of Doctor Moreau, by H. G. Wells. [...] The heavy smoke drove up the beach away from me, rolling low over the distant tree-tops towards the huts in the ravine. Beside me were the charred vestiges of the boats and these five dead bodies. Then out of the bushes came three Beast People, with hunched shoulders, protruding heads, misshapen hands awkwardly held, and inquisitive, unfriendly eyes and advanced towards me with hesitating gestures. XX. ALONE WITH THE BEAST FOLK. I FACED these people, facing my fate in them, single-handed now,--literally single-handed, for I had a broken arm. In my pocket was a revolver with two empty chambers. Among the chips scattered about the beach lay the two axes that had been used to chop up the boats. The tide was creeping in behind me. There was nothing for it but courage. I looked squarely into the faces of the advancing monsters. They avoided my eyes, and their quivering nostrils investigated the bodies that lay beyond me on the beach. I took half-a-dozen steps, picked up the blood-stained whip that lay beneath the body of the Wolf-man, and cracked it. They stopped and stared at me.\"\n",
    "\n",
    "\n",
    "last_column, index = bwt_encode(text)\n",
    "\n",
    "print(last_column)\n",
    "print(index)"
   ]
  },
  {
   "cell_type": "code",
   "execution_count": 48,
   "metadata": {},
   "outputs": [
    {
     "name": "stdout",
     "output_type": "stream",
     "text": [
      "The Island of Doctor Moreau, by H. G. Wells. [...] Afterwards it occurred to me that probably I had seen him as I was lifted aboard; and yet that scarcely satisfied my suspicion of a previous acquaintance. Yet how one could have set eyes on so singular a face and yet have forgotten the precise occasion, passed my imagination. Montgomery's movement to follow me released my attention, and I turned and looked about me at the flush deck of the little schooner. I was already half prepared by the sounds I had heard for what I saw. Certainly I never beheld a deck so dirty. It was littered with scraps of carrot, shreds of green stuff, and indescribable filth. Fastened by chains to the mainmast were a number of grisly staghounds, who now began leaping and barking at me, and by the mizzen a huge puma was cramped in a little iron cage far too small even to give it turning room. Farther under the starboard bulwark were some big hutches containing a number of rabbits, and a solitary llama was squeezed in a mere box of a cage forward. The dogs were muzzled by leather straps. The only human being on deck was a gaunt and silent sailor at the wheel.\n"
     ]
    }
   ],
   "source": [
    "def bwt_decode(r,ind):\n",
    "    table = [\"\"] * len(r)\n",
    "    for i in range(len(r)):\n",
    "        table = sorted(r[i] + table[i] for i in range(len(r)))\n",
    "    return table[ind]\n",
    "\n",
    "last_column = \"].f...ysyytd.se..r.....fdrsnnnegfdddss,,g,,dte;mgerydwrneed,ddddnafyseshanoeltaeeeodeeaoffIIytddntaygydddesenyssaeydetwotaesedddIoaaetdxnssrrkgswe,efatefegtyItehde,dooknaeesyernyettfoynyrttndsrItrkIaItatskre,dddynsefuntswmhHryndsGes[.l.d                  .     .           mmrbb  f hhecctmsttmhuhm lrmgt      l   errlftcoewowpwbcFt wwwwwwecpmFh hh  ens eghhsio a   mm baaraa         s cooanr tsieeee  a ssocnlneeenreenerlaeenneeenaneennrr   nn  nrenahrcmmrnhglhvglvhhhrshhgmlvrhhmhmcrlhllrrdddtknnlrpzssirrrhsrubbbehrWcvzeetvtlmtrvbbhdhnwmwwtCtmhydsyYy nr eooooooloof  us      iAnnninne aauaa tr  onstt  c wtt  TTttttTtttt wettc wcg s   rpflbsafh   g npkensaaaaactstv dctr  lwblllgmcccrorlelsueubtt e zia o   a oe ilalifubnnesiouai sunuu o   e o  a    eiiaooeaooeeeoooiaaaaaaaaaaauiuuoreo iiiiiiirioi iueeoioe  sttthsotbbr  D        dosfosgr i iii o cMtlrhtlfMffrgcshibmnlhbe msa    aa csoaoeeeeeaeoe cctaaaaaaaeeeeloparehg ppocgaauupi ruaeaioeaedaauaeadaa'pdeangtdpl      eias  iu   aIi      u aa  a   aneeeuaianaeaaniIsosnrnsiuftsttfnil          arnaatt     csioaiiis  raqqthgobphnn ooattcolsohmaiaoeeeoooarrl             obllmbdlmbrllmbbrte  ezziu\"\n",
    "index = 255\n",
    "\n",
    "original_text = bwt_decode(last_column, index)\n",
    "print(original_text)"
   ]
  },
  {
   "cell_type": "markdown",
   "metadata": {},
   "source": [
    "## Final"
   ]
  },
  {
   "cell_type": "code",
   "execution_count": 52,
   "metadata": {},
   "outputs": [
    {
     "name": "stdout",
     "output_type": "stream",
     "text": [
      "111111111111111111111111111111111111111111111101110110001111111110111111110101111101111111101111001110101111111110111001101111001010111111111000110011100010000111001110001100111000111111111001100111111110110100101100000001111011000000000111111111011011111111111000111001111111101101111101011111111111000000001100011111110000111000011111000100101010010111101110110001001000100010110000001111111101100011111111101001010001011110001100101110000110010101101111111111100010001110111110111100011111111100110001000010111010111100011001100100000010100100010101101101100111111111101110101110001000100011101101011101111111111110111111001110011000001001001000101011101011011100011100001011011100010011110101011110000010010110100000001101110100111000110011100101111000110110101111000111111110011111111101010111000110011101110100100110000110110011111111000111001111010000011111111111010111111001110010011111111011111111110001000010111111100100000000000000000000000000000000000000000000000010000010000000000000011111111100001000000000000000011100011111011010111101011111100000010000011111110010100101000000000001000000001000110111111100001111111101000111111100110011111111111001001010000001100010000000000001011110010101111111101100010101010111110011111110100100000011111111111001010010001000000000011110001111110000000011000010010001001111111111101001000001000101010100110001000100000000101000110011000011001100100010011111101000001110001011010001101011010000111100111100100101000000111101101101110001111111011010000000011100011110101010101010010011101100100100100000111011101001000011001111111000111111111100111111111110001100011111001111111111101011111010000110100001111111110111110001111111111011010100001010011011111100000111101100011000111001111111101000000000011111100110100111111000100011111000011100100100000000010000000000000111010111001011100000011101000000100000000100100000000000000100000000000111111111110110000100000000000000010100101111010111110000000100000001111110011000001001010000000000000110001110001110001011010100011111001010010101000011101100000010110010100000000001100111111111110110110111111011010111111110010111110001110001111000110111111110101111010111110001001000111110001111110101100111110100011100101101001111001111001111110001101000111001000111111011101100000000001000000101000100000000000000000011000111111111001011010110100000001001011001111001010000000000000111111111101101001000010010000001111110000000010111010000000000001010000110000000000111001101100101000000010011111101000000011010001111010101100000000000011111100111000111110000001101100110011010101010011001111100011111101110001111000110010001111010111011101011100011110111010101111111110101111110001001111001110001110011111100111101111000000111101100100110000000001001000111101101100001100111111100110000100011011100011111000000111001000101110011111100010111111000111111111101111111111110001110011110101001000010111001110001111011101011100011101100000000000011100010011000111110100101001111100110100000000001101011010011010000110000010110010101001101010011001111100010010001111101110111100101110011111111111100010000111101000000000000000000000000000000000011001110001000011000000110011011000001000010001111010010010100101000011110010001001000111110001111111001100110011111011110011100100011111011111010101000000010101001000010000010000111000001000000001111111001111101100000000000000011001000000101001011000\n"
     ]
    }
   ],
   "source": [
    "texto = \"The First Men In The Moon, H(erbert) G(eorge) Wells [1910] [...] Cover, whispered Cavor, and I turned towards the bushes. At that instant came a thud like the thud of a gun, and then a thing happened--it still haunts me in my dreams. I had turned my head to look at Cavor's face, and thrust out my hand in front of me as I did so. And my hand met nothing! I plunged suddenly into a bottomless hole! My chest hit something hard, and I found myself with my chin on the edge of an unfathomable abyss that had suddenly opened beneath me, my hand extended stiffly into the void. The whole of that flat circular area was no more than a gigantic lid, that was now sliding sideways from off the pit it had covered into a slot prepared for it.\"\n",
    "ultima_columna, indice_bn = bwt_encode(texto)\n",
    "alfabeto = [' ', '!', \"'\", '(', ')', ',', '-', '.', '0', '1', '9', 'A', 'C', 'F', 'G', 'H', 'I', 'M', 'T', 'W', '[', ']', 'a', 'b', 'c', 'd', 'e', 'f', 'g', 'h', 'i', 'k', 'l', 'm', 'n', 'o', 'p', 'r', 's', 't', 'u', 'v', 'w', 'x', 'y']\n",
    "lista_de_indices_mtf = mtf_encode(ultima_columna,alfabeto)\n",
    "concatenacion = [indice_bn] + lista_de_indices_mtf\n",
    "k = 2\n",
    "codigo_final = rice_encode_list(concatenacion,k)\n",
    "print(codigo_final)"
   ]
  },
  {
   "cell_type": "code",
   "execution_count": 62,
   "metadata": {},
   "outputs": [
    {
     "name": "stdout",
     "output_type": "stream",
     "text": [
      "The First Men In The Moon, H(erbert) G(eorge) Wells [1910] [...] It was an incredible crowd. Suddenly and violently there was forced upon my attention the vast amount of difference there is amongst these beings of the moon. Indeed, there seemed not two alike in all that jostling multitude. They differed in shape, they differed in size, they rang all the horrible changes on the theme of Selenite form! Some bulged and overhung, some ran about among the feet of their fellows. All of them had a grotesque and disquieting suggestion of an insect that has somehow contrived to mock humanity; but all seemed to present an incredible exaggeration of some particular feature: one had a vast right fore-limb, an enormous antennal arm, as it were; one seemed all leg, poised, as it were, on stilts; another protruded the edge of his face mask into a nose-like organ that made him startlingly human until one saw his expressionless gaping mouth.\n"
     ]
    }
   ],
   "source": [
    "code = \"1111111111111111111111111111111111111111111111111110001010111111011100110101111111110001000111111000111111111101010101111111010110011001101000111000101111111111110101111111011111111111011001101001001011010011111111110010101001001111000010010110111110001011111111111110111111100110101111111110111100000010001010000100100111111111111010001011000110001100001111011001110010001111111111100001000101011011011010111111110111111111111010011100000111010110010101101011111111110100101101100011011000000011011110100001100011101000101111110000011111000000101111100111001100001110100100101100001111000111100001111111101101111110011011110000011010110111111001011111010110100100000001100011011000111011110001110001111001100011101111000101101111100010000111100010000000010001100100011001110101100001000011000000010101001010011110110101000011001000110101111111010111111101101110001011111111111010101110111000111001000011010000000000111010101001101111111111101011111100011111111110000011111111011111111110001000010100111000111100101011111110010000000000000000000000000000000001011001000000000000001111111110000100000000001111100011010000111010111111111110111110101001000000000000000000000111110110010000000001111000100101000000001110100110110000101000111110110111111111111100011111000111111100100001100010101011111111111110110000100000001100110001110111111001101001110001111111111100000000011111101001100000111101010000111111111000001011000001110001010101000001000010000010000000010010000000000010010001101111111111111011100000100010001111110011001000000101100000000011100000010011110001110001111000000100000100111101111001110010111111111100011101111111111111001011110001111011100101000010110001010100110100010101010001111101111111111111100011100001111010001000111110100111101010111000000010100111111001010110101010111100111110011011000101110000000001100111110001100011111110011110101111111111100010011111111111101001100011011000000111111111110011101111001110111111100011100111100101010001111111111001110011111001010010000000111111000000111001000000111101011110001010100111100011001110010101000111010111111001111001000101100000011111101000000000000000000000001000000000011011000000100000000001000000011111011000000000000101000111000011111100001011010110101001001111111010111111010110011000110000010001110010100001111101111110110100110000001111111111101000000100000000000000000000000000000000000000000100100001000000000011100111010010000111000000111001000100111011010000000011111001000100000011110000101010000000000000111111010010100000111001100000011110111000000000111000100011111111111001100111000000111101111011011000111100011000001111000110011000111100001011110010001111010111010000010001000000111100011111000000000101111101111100111011100111000111111111110000001110010000101111111111100100100000010110001101000010101101111000111110001100010101000111011000111000101100000101111100010010010000010000000010111101000000100110100100000001000111111111110101000101000100000000010100000000100000010100010000010010001101010011000000100000000010011001000000010011000000010110000110110000111001011010010000000101100001110000111001011001010000011100111001111111000001000111111100111000000000000000000000000111110111010111111100111110110000000110110001000000001110000000100000001010000011111110001111111000011111111011000100111100001011110001111110000011111111111101100111110110010011011000111111000001110001010100011111010011111110000000011111100000111111111001001111101000010001111000111010100000000100011110010010000000000011011010000000111100100000111110100001000000010110111010111110001000110010011111101110111100001111010110011010000101111100110000111101101000001011100000100011010101101011111010110001110001000110101111010110011000000000100000111001001110000010000000111000001000111010100000011010100100010001100001010111101100000111001111100011000000000010101110001110100011100011111011111000000111000100001010111110011010110111110000000000000000000000000000000000000100010000000000000001011100110111101000111011011111011011100101100010100000011011100110101101000110010101111101111011110001111111111110001101000111101011111001111110011111001000000111001110110001100101010010010000110001101101001000111100001000001000100010010101110110001110101100101000001000100110001011\"\n",
    "k = 2\n",
    "concatenacion = rice_decode(code,k)\n",
    "indice_bn = concatenacion[0]\n",
    "lista_de_indices_mtf = concatenacion[1:]\n",
    "\n",
    "alfabeto =  [' ', '!', '(', ')', ',', '-', '.', '0', '1', '9', ':', ';', 'A', 'F', 'G', 'H', 'I', 'M', 'S', 'T', 'W', '[', ']', 'a', 'b', 'c', 'd', 'e', 'f', 'g', 'h', 'i', 'j', 'k', 'l', 'm', 'n', 'o', 'p', 'q', 'r', 's', 't', 'u', 'v', 'w', 'x', 'y', 'z']\n",
    "\n",
    "ultima_columna = mtf_decode(lista_de_indices_mtf,alfabeto)\n",
    "\n",
    "texto = bwt_decode(ultima_columna,indice_bn)\n",
    "\n",
    "print(texto)"
   ]
  }
 ],
 "metadata": {
  "kernelspec": {
   "display_name": "Python 3",
   "language": "python",
   "name": "python3"
  },
  "language_info": {
   "codemirror_mode": {
    "name": "ipython",
    "version": 3
   },
   "file_extension": ".py",
   "mimetype": "text/x-python",
   "name": "python",
   "nbconvert_exporter": "python",
   "pygments_lexer": "ipython3",
   "version": "3.12.0"
  }
 },
 "nbformat": 4,
 "nbformat_minor": 2
}
