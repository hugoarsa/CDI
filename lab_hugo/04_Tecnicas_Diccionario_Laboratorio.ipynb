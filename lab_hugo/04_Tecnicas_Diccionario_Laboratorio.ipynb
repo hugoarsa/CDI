{
  "cells": [
    {
      "cell_type": "markdown",
      "metadata": {
        "id": "bQdNFqh3up6-"
      },
      "source": [
        "# Práctica de técnicas de diccionario\n",
        "\n",
        "En esta práctica se desarrollarán los códigos necesarios para poder solucionar el cuestionario asociado de CDI que trata sobre los métodos de compresión sin pérdidas mediante el uso de diccionarios. En esta ocasión no se facilita ninguna estructura partícular a seguir así que simplemente se crearan las funciones pertinentes para superar el cuesionario en cada uno de los métodos estudiados. Finalmente, breves juegos de pruevas finales correspondientes al cuestionario en si mismo.\n",
        "\n",
        "## Lempel-Ziv 1977 (LZ77)\n"
      ]
    },
    {
      "cell_type": "code",
      "execution_count": null,
      "metadata": {
        "id": "fUAIuEKqup7A"
      },
      "outputs": [],
      "source": [
        "def lz77_encode(input_string, search,window):\n",
        "    output = []\n",
        "\n",
        "    return output"
      ]
    },
    {
      "cell_type": "code",
      "execution_count": 12,
      "metadata": {
        "id": "2vbg8l60up7C"
      },
      "outputs": [],
      "source": [
        "def lz77decode(codigo):\n",
        "    mensaje = ''\n",
        "    for [sym,match_len,dist] in codigo:\n",
        "        #Si matchlen es 0 simplemente no añadimos ningun mensaje\n",
        "        for i in range(0,match_len):\n",
        "            mensaje += mensaje[-dist]\n",
        "        #Obtener el siguente simbolo diferente\n",
        "        mensaje += sym\n",
        "\n",
        "    #Eliminamos el EOF\n",
        "    return mensaje[:-3]"
      ]
    },
    {
      "cell_type": "code",
      "execution_count": 13,
      "metadata": {
        "id": "C-KF9r--up7D",
        "outputId": "5e584168-5367-4855-cdbf-01d10dbb4e37",
        "colab": {
          "base_uri": "https://localhost:8080/"
        }
      },
      "outputs": [
        {
          "output_type": "stream",
          "name": "stdout",
          "text": [
            "The Time Machine, H(erbert) G(eorge) Wells [1895] [...] One hand on the saddle, the other on the lever, I stood panting heavily in attitude to mount again. “But with this recovery of a prompt retreat my courage recovered. I looked more curiously and less fearfully at this world of the remote future. In a circular opening, high up in the wall of the nearer house, I saw a group of figures clad in rich soft robes. They had seen me, and their faces were directed towards me. “Then I heard voices approaching me. Coming through the bushes by the White Sphinx were the heads and shoulders of men running. One of these emerged in a pathway leading straight to the little lawn upon which I stood with my machine. He was a slight creature—perhaps four feet high—clad in a purple tunic, girdled at the waist with a leather belt.\n"
          ]
        }
      ],
      "source": [
        "# Example usage:\n",
        "code=[['T', 0, 0], ['h', 0, 0], ['e', 0, 0], [' ', 0, 0], ['i', 1, 4], ['m', 0, 0], ['M', 2, 5], ['a', 0, 0], ['c', 0, 0], ['i', 1, 11], ['n', 0, 0], [',', 1, 13], ['H', 1, 14], ['(', 0, 0], ['r', 1, 18], ['b', 0, 0], ['t', 2, 3], [')', 0, 0], ['G', 1, 24], ['o', 2, 10], ['g', 1, 11], [')', 1, 32], ['W', 1, 33], ['l', 1, 36], ['s', 1, 1], ['[', 1, 39], ['1', 0, 0], ['8', 0, 0], ['9', 0, 0], ['5', 0, 0], [']', 0, 0], ['.', 2, 7], [']', 2, 1], ['O', 1, 52], [' ', 2, 43], ['a', 1, 59], ['d', 1, 48], ['o', 1, 61], [' ', 1, 52], ['h', 1, 43], ['s', 2, 63], ['d', 1, 63], ['l', 1, 12], ['t', 3, 62], ['o', 3, 12], ['r', 3, 17], ['l', 8, 25], ['v', 1, 60], [',', 2, 13], ['I', 1, 61], ['t', 2, 34], ['o', 1, 43], ['p', 2, 47], ['t', 2, 52], ['i', 0, 0], ['g', 1, 60], ['e', 2, 60], ['v', 1, 61], ['l', 1, 8], ['y', 0, 0], ['i', 1, 63], ['a', 2, 63], ['t', 1, 52], ['t', 1, 18], ['u', 0, 0], ['e', 1, 63], ['o', 2, 60], ['m', 1, 63], ['u', 1, 60], [' ', 2, 32], ['g', 1, 36], ['i', 1, 38], ['.', 1, 62], ['“', 1, 63], ['B', 0, 0], ['t', 1, 22], ['w', 1, 57], ['h', 2, 28], ['h', 2, 26], ['s', 1, 52], ['r', 1, 59], ['c', 1, 51], ['v', 1, 33], ['r', 1, 55], ['o', 2, 52], ['f', 0, 0], [' ', 2, 52], ['p', 0, 0], ['o', 1, 15], ['p', 1, 45], ['r', 2, 43], ['t', 1, 55], ['a', 2, 24], ['m', 2, 51], ['c', 2, 23], ['r', 2, 60], ['e', 2, 58], ['e', 8, 40], ['d', 0, 0], ['.', 0, 0], ['I', 1, 61], ['l', 1, 63], ['o', 1, 51], ['k', 0, 0], [' ', 2, 10], ['o', 1, 43], [' ', 2, 62], ['u', 1, 63], ['i', 1, 61], ['s', 2, 36], ['y', 1, 19], ['n', 2, 63], ['l', 2, 19], ['s', 1, 58], [' ', 1, 11], ['f', 0, 0], ['r', 2, 60], ['u', 1, 4], ['l', 1, 37], ['t', 3, 19], ['t', 1, 57], ['h', 0, 0], ['s', 1, 31], ['w', 1, 62], ['l', 2, 42], ['o', 2, 48], [' ', 1, 25], ['e', 2, 14], ['r', 1, 62], ['m', 1, 59], ['t', 1, 63], ['f', 2, 57], ['t', 1, 57], ['e', 2, 59], ['.', 0, 0], ['I', 1, 55], [' ', 1, 55], [' ', 1, 58], ['c', 0, 0], ['r', 1, 37], ['u', 1, 3], ['a', 1, 61], [' ', 1, 55], ['p', 1, 41], ['n', 1, 61], ['n', 1, 49], ['g', 0, 0], [',', 0, 0], ['h', 1, 59], ['g', 1, 55], [' ', 1, 58], ['p', 1, 35], ['i', 1, 59], ['t', 2, 31], ['w', 3, 53], ['l', 1, 36], [' ', 1, 31], ['f', 1, 55], ['n', 5, 12], ['a', 1, 61], ['r', 2, 57], ['o', 2, 34], ['s', 1, 50], [',', 1, 45], ['I', 1, 61], ['s', 1, 63], ['w', 1, 56], ['a', 1, 56], ['g', 1, 58], ['o', 1, 61], ['o', 3, 47], ['f', 2, 35], ['u', 2, 58], ['s', 2, 32], ['c', 1, 61], ['a', 1, 50], ['d', 0, 0], ['r', 4, 63], ['c', 1, 16], [' ', 1, 53], ['o', 1, 42], ['t', 1, 60], ['o', 2, 10], ['b', 0, 0], ['.', 2, 24], ['T', 1, 57], ['e', 1, 58], ['y', 0, 0], ['a', 2, 62], ['s', 2, 29], ['e', 1, 63], ['m', 2, 31], [',', 1, 43], ['n', 2, 62], ['t', 2, 42], ['i', 2, 22], [' ', 1, 55], ['a', 1, 63], ['e', 1, 55], ['w', 2, 59], ['r', 1, 63], [' ', 1, 41], ['i', 1, 61], ['c', 2, 5], ['e', 1, 53], ['o', 3, 26], ['a', 1, 16], ['d', 1, 59], ['m', 2, 22], ['.', 1, 61], ['“', 1, 60], ['n', 3, 61], ['I', 1, 61], ['e', 2, 63], [' ', 3, 19], ['v', 0, 0], ['i', 1, 26], ['a', 4, 47], ['p', 0, 0], ['r', 1, 1], ['a', 1, 36], ['h', 1, 57], ['n', 1, 49], ['g', 0, 0], ['C', 5, 37], ['m', 1, 49], ['t', 4, 11], ['r', 1, 43], ['u', 1, 58], ['h', 1, 18], ['e', 3, 8], ['b', 1, 60], ['s', 1, 9], ['s', 2, 57], ['y', 2, 7], ['W', 5, 14], ['t', 2, 43], ['S', 2, 20], ['h', 1, 55], ['x', 2, 50], ['w', 1, 62], ['r', 1, 50], ['t', 2, 32], ['h', 3, 36], ['a', 1, 59], ['d', 0, 0], ['a', 2, 35], ['d', 1, 58], ['s', 1, 58], ['o', 1, 58], ['l', 1, 57], ['e', 1, 12], ['s', 1, 63], ['o', 1, 60], ['f', 0, 0], ['m', 1, 63], ['n', 1, 62], ['r', 1, 63], ['n', 1, 63], ['i', 1, 42], ['g', 1, 44], ['.', 0, 0], ['O', 1, 62], ['e', 1, 49], ['t', 4, 20], ['s', 2, 47], ['e', 2, 53], ['r', 2, 27], ['e', 1, 20], ['i', 2, 47], ['a', 2, 33], ['p', 1, 62], ['t', 1, 61], ['w', 1, 54], ['y', 1, 61], ['l', 1, 60], ['a', 1, 55], ['i', 1, 58], [' ', 2, 43], ['t', 1, 60], ['a', 1, 63], ['g', 1, 51], ['t', 1, 40], ['o', 2, 44], [' ', 4, 47], ['i', 1, 24], ['t', 1, 53], [' ', 2, 28], ['a', 1, 31], ['n', 1, 37], ['u', 1, 63], ['o', 1, 45], ['w', 2, 51], ['i', 1, 47], ['c', 0, 0], [' ', 1, 50], ['I', 0, 0], ['o', 3, 41], ['d', 1, 34], ['i', 2, 14], [' ', 2, 63], ['m', 0, 0], ['m', 2, 63], ['c', 1, 62], ['n', 2, 24], ['.', 1, 47], ['H', 1, 55], ['w', 2, 51], ['s', 1, 44], ['a', 1, 62], ['l', 2, 32], ['g', 1, 58], ['t', 1, 43], ['c', 1, 57], ['r', 0, 0], ['a', 1, 61], ['u', 1, 42], ['—', 2, 5], ['e', 1, 60], ['h', 1, 10], ['p', 1, 37], ['f', 2, 26], ['u', 1, 55], [' ', 1, 19], ['e', 1, 5], ['t', 1, 43], ['h', 1, 60], ['—', 3, 33], ['l', 1, 55], ['d', 1, 58], ['i', 1, 62], [' ', 1, 58], ['p', 2, 49], ['p', 2, 38], ['e', 1, 52], ['t', 1, 62], ['n', 1, 45], ['c', 1, 57], [',', 0, 0], ['g', 1, 63], ['r', 1, 62], ['l', 1, 24], ['d', 1, 59], ['t', 2, 24], ['h', 2, 18], ['w', 2, 22], ['i', 1, 59], ['t', 1, 59], ['i', 2, 6], [' ', 2, 12], ['l', 2, 42], ['a', 1, 62], ['r', 3, 20], ['b', 1, 55], ['l', 1, 46], ['.', 1, 46], ['EOF', 0, 0]]\n",
        "print(lz77decode(code))"
      ]
    },
    {
      "cell_type": "code",
      "execution_count": 14,
      "metadata": {
        "id": "FrnPvh6gup7F",
        "outputId": "cad060c9-f1ce-4694-b5b7-8b798f3dc3ec",
        "colab": {
          "base_uri": "https://localhost:8080/"
        }
      },
      "outputs": [
        {
          "output_type": "stream",
          "name": "stdout",
          "text": [
            "The Time Machine, H(erbert) G(eorge) Wells [1895] [...] “I was in an agony of discomfort. I had some thought of trying to go up the shaft again, and leave the Underworld alone. But even while I turned this over in my mind I continued to descend. At last, with intense relief, I saw dimly coming up, a foot to the right of me, a slender loophole in the wall. Swinging myself in, I found it was the aperture of a narrow horizontal tunnel in which I could lie down and rest. It was not too soon. My arms ached, my back was cramped, and I was trembling with the prolonged terror of a fall. Besides this, the unbroken darkness had had a distressing effect upon my eyes. The air was full of the throb and hum of machinery pumping air down the shaft.\n"
          ]
        }
      ],
      "source": [
        "# Example usage:\n",
        "code=[['T', 0, 0], ['h', 0, 0], ['e', 0, 0], [' ', 0, 0], ['i', 1, 4], ['m', 0, 0], ['M', 2, 5], ['a', 0, 0], ['c', 0, 0], ['i', 1, 11], ['n', 0, 0], [',', 1, 13], ['H', 1, 14], ['(', 0, 0], ['r', 1, 18], ['b', 0, 0], ['t', 2, 3], [')', 0, 0], ['G', 1, 24], ['o', 2, 10], ['g', 1, 11], [')', 1, 27], ['W', 1, 28], ['l', 1, 31], ['s', 1, 1], ['[', 1, 25], ['1', 0, 0], ['8', 0, 0], ['9', 0, 0], ['5', 0, 0], [']', 0, 0], ['.', 2, 7], [']', 2, 1], ['“', 1, 28], ['I', 0, 0], ['w', 1, 31], ['a', 0, 0], ['i', 2, 20], ['n', 0, 0], ['a', 1, 29], ['g', 3, 3], ['o', 0, 0], ['y', 1, 8], ['o', 1, 25], ['f', 0, 0], ['d', 1, 28], ['s', 1, 16], ['c', 0, 0], ['m', 1, 11], ['o', 1, 8], ['r', 0, 0], ['t', 0, 0], ['.', 0, 0], ['I', 1, 31], ['h', 1, 29], ['d', 1, 27], ['s', 1, 30], ['e', 2, 15], ['t', 1, 26], ['o', 1, 10], ['u', 0, 0], ['g', 0, 0], ['t', 1, 14], ['o', 1, 31], [' ', 1, 26], ['r', 1, 25], ['y', 0, 0], ['i', 0, 0], ['n', 0, 0], [' ', 1, 12], ['o', 1, 18], ['g', 1, 30], ['u', 2, 3], ['p', 0, 0], ['e', 3, 27], ['s', 1, 31], ['a', 1, 31], ['t', 1, 25], ['a', 1, 29], ['a', 1, 22], [',', 2, 26], ['n', 2, 7], ['d', 0, 0], ['l', 1, 30], ['a', 1, 20], ['v', 0, 0], ['t', 2, 23], ['U', 3, 27], ['e', 2, 14], ['r', 0, 0], ['w', 0, 0], ['o', 0, 0], ['l', 1, 3], ['a', 2, 21], ['o', 1, 22], ['e', 1, 31], ['.', 0, 0], ['B', 1, 28], ['u', 0, 0], [' ', 1, 24], ['v', 1, 31], ['n', 1, 30], ['w', 1, 31], ['i', 1, 31], ['e', 1, 22], ['I', 1, 22], ['t', 1, 24], ['r', 1, 17], ['d', 2, 24], ['h', 2, 7], ['s', 1, 15], ['o', 1, 29], ['r', 2, 25], ['i', 1, 30], ['m', 2, 28], ['y', 0, 0], ['i', 2, 3], ['d', 1, 22], ['c', 3, 30], ['n', 1, 19], ['i', 1, 26], ['u', 1, 17], ['d', 1, 23], ['t', 1, 28], [' ', 1, 29], ['e', 1, 17], ['s', 0, 0], ['e', 1, 16], ['.', 2, 23], ['A', 1, 29], [' ', 1, 20], ['l', 0, 0], ['a', 0, 0], ['t', 1, 12], [',', 0, 0], ['w', 1, 31], ['t', 1, 28], ['h', 0, 0], ['i', 1, 26], ['t', 1, 19], ['s', 2, 22], [' ', 1, 28], ['r', 0, 0], ['l', 1, 31], ['e', 1, 15], ['f', 0, 0], ['I', 2, 21], ['s', 1, 29], ['w', 1, 29], ['d', 1, 27], ['m', 1, 27], ['y', 1, 15], ['c', 1, 28], ['o', 0, 0], ['i', 1, 6], ['g', 1, 31], ['u', 1, 27], ['p', 0, 0], ['a', 2, 23], ['f', 1, 25], ['o', 1, 13], ['t', 0, 0], ['t', 1, 30], [' ', 1, 18], ['h', 1, 5], ['e', 0, 0], ['r', 1, 31], ['g', 1, 31], ['t', 1, 6], ['o', 1, 31], [' ', 1, 19], ['m', 0, 0], [',', 1, 12], ['s', 3, 27], ['l', 0, 0], ['n', 1, 19], ['d', 0, 0], ['r', 1, 22], ['l', 1, 30], ['o', 1, 30], ['p', 0, 0], ['o', 1, 30], [' ', 2, 13], ['n', 1, 31], ['t', 1, 29], ['e', 1, 9], ['w', 1, 30], ['l', 1, 27], ['.', 1, 26], ['S', 1, 30], ['i', 1, 7], ['g', 1, 30], [' ', 3, 3], ['m', 0, 0], ['y', 0, 0], ['s', 0, 0], ['l', 1, 27], ['f', 0, 0], [',', 3, 29], ['I', 1, 30], ['f', 1, 28], ['o', 0, 0], ['u', 0, 0], ['d', 1, 22], ['t', 2, 12], ['w', 1, 31], ['a', 0, 0], [' ', 1, 22], ['h', 1, 6], [' ', 1, 25], ['p', 1, 7], ['r', 1, 29], ['u', 1, 14], ['e', 1, 3], ['o', 1, 28], [' ', 1, 27], [' ', 1, 19], ['a', 1, 28], ['r', 1, 13], ['w', 1, 9], ['h', 1, 29], ['r', 1, 13], ['i', 0, 0], ['z', 0, 0], ['n', 1, 17], ['a', 1, 24], ['l', 0, 0], ['t', 1, 23], ['n', 1, 28], ['e', 1, 21], ['i', 2, 7], [' ', 1, 26], ['h', 1, 23], ['c', 1, 20], [' ', 1, 25], ['I', 0, 0], ['c', 1, 29], ['u', 1, 29], ['d', 1, 23], ['l', 1, 24], ['e', 1, 18], ['d', 1, 28], ['w', 1, 10], ['a', 2, 23], ['d', 1, 31], ['r', 1, 30], ['s', 1, 12], ['t', 0, 0], ['.', 0, 0], ['t', 2, 27], ['w', 1, 30], ['s', 1, 14], ['n', 1, 26], ['t', 1, 22], ['t', 1, 30], ['o', 1, 26], ['s', 1, 30], ['n', 2, 4], ['M', 2, 21], ['y', 0, 0], ['a', 1, 30], ['m', 1, 31], ['a', 2, 22], ['c', 0, 0], ['h', 0, 0], ['e', 0, 0], ['d', 0, 0], [',', 0, 0], ['m', 1, 29], ['b', 2, 15], ['k', 2, 11], ['w', 1, 29], ['s', 1, 21], ['c', 1, 27], ['a', 1, 24], ['p', 1, 25], ['a', 4, 21], ['n', 0, 0], [' ', 1, 26], ['I', 0, 0], ['t', 5, 19], ['e', 1, 19], ['b', 1, 19], ['l', 0, 0], ['i', 0, 0], ['g', 1, 16], ['i', 2, 14], ['h', 1, 12], ['h', 2, 15], [' ', 1, 31], ['p', 0, 0], ['o', 1, 19], ['o', 1, 17], ['e', 2, 17], ['d', 0, 0], ['e', 2, 29], ['r', 1, 30], ['r', 1, 12], ['o', 1, 26], ['f', 0, 0], ['a', 1, 29], ['f', 1, 31], ['l', 1, 3], ['.', 1, 22], ['B', 1, 28], ['s', 1, 31], ['i', 0, 0], ['e', 1, 24], [' ', 1, 4], ['h', 1, 26], ['s', 1, 7], [',', 0, 0], ['e', 3, 6], ['u', 1, 29], ['n', 0, 0], ['b', 0, 0], ['r', 0, 0], ['o', 0, 0], ['k', 0, 0], ['n', 1, 23], ['d', 1, 27], ['a', 0, 0], ['k', 1, 8], ['e', 1, 12], ['s', 1, 31], ['h', 1, 28], ['d', 1, 9], ['a', 5, 4], ['i', 2, 19], ['t', 1, 15], ['e', 1, 29], ['i', 2, 19], ['g', 1, 30], ['e', 1, 31], ['f', 0, 0], ['e', 1, 1], ['c', 0, 0], [' ', 1, 14], ['u', 0, 0], ['p', 0, 0], ['o', 0, 0], [' ', 1, 13], ['m', 0, 0], ['y', 0, 0], ['y', 2, 15], ['.', 2, 24], ['T', 1, 21], ['h', 0, 0], [' ', 1, 30], ['a', 0, 0], ['r', 1, 30], ['w', 1, 29], ['s', 1, 5], ['f', 1, 26], ['l', 1, 27], [' ', 1, 1], ['f', 1, 29], ['t', 1, 29], ['t', 3, 20], ['r', 1, 24], ['b', 1, 10], ['n', 2, 26], ['d', 0, 0], ['h', 1, 30], ['m', 1, 22], ['m', 4, 21], ['c', 1, 12], ['i', 1, 23], ['e', 1, 15], ['y', 1, 22], ['p', 1, 31], ['p', 2, 17], ['g', 2, 10], ['i', 2, 29], [' ', 1, 13], ['o', 1, 31], ['w', 0, 0], [' ', 1, 20], ['t', 0, 0], ['e', 1, 25], ['s', 1, 31], ['a', 1, 29], ['f', 0, 0], ['.', 1, 8], ['EOF', 0, 0]]\n",
        "print(lz77decode(code))"
      ]
    },
    {
      "cell_type": "markdown",
      "metadata": {
        "id": "IP7djFdLup7G"
      },
      "source": [
        "## Lempel-Ziv 1978 (LZ78)"
      ]
    },
    {
      "cell_type": "code",
      "execution_count": null,
      "metadata": {
        "id": "QVt--8Gcup7G"
      },
      "outputs": [],
      "source": [
        "def lz78encode(input_string, window_size):\n",
        "    output = []\n",
        "\n",
        "    return output"
      ]
    },
    {
      "cell_type": "code",
      "execution_count": 10,
      "metadata": {
        "id": "Guipn-lnup7H"
      },
      "outputs": [],
      "source": [
        "def lz78decode(codigo):\n",
        "    mensaje = \"\"\n",
        "    #diccionario con la palabra vacía\n",
        "    diccionario = ['']\n",
        "    for [ref,sym] in codigo:\n",
        "        #añadimos el simbolo al mensaje\n",
        "        mensaje += diccionario[ref] + sym\n",
        "        #añadimos la entrada que representa al diccionario\n",
        "        diccionario += [diccionario[ref]+sym]\n",
        "\n",
        "    return mensaje[:-3]"
      ]
    },
    {
      "cell_type": "code",
      "execution_count": 19,
      "metadata": {
        "colab": {
          "base_uri": "https://localhost:8080/"
        },
        "id": "wy5Tiny_up7H",
        "outputId": "300a0acb-7f9b-41e4-8e69-946b984016ab"
      },
      "outputs": [
        {
          "output_type": "stream",
          "name": "stdout",
          "text": [
            "The Invisible Man, H(erbert) G(eorge) Wells [1897] [...] I got him, said the cabman. The barman's red hands came clawing at the unseen. Here he is! said the barman. Mr. Marvel, released, suddenly dropped to the ground and made an attempt to crawl behind the legs of the fighting men. The struggle blundered round the edge of the door. The voice of the Invisible Man was heard for the first time, yelling out sharply, as the policeman trod on his foot. Then he cried out passionately and his fists flew round like flails. The cabman suddenly whooped and doubled up, kicked under the diaphragm. The door into the bar-parlour from the kitchen slammed and covered Mr. Marvel's retreat. The men in the kitchen found themselves clutching at and struggling with empty air.\n"
          ]
        }
      ],
      "source": [
        "code=[[0, 'T'], [0, 'h'], [0, 'e'], [0, ' '], [0, 'I'], [0, 'n'], [0, 'v'], [0, 'i'], [0, 's'], [8, 'b'], [0, 'l'], [3, ' '], [0, 'M'], [0, 'a'], [6, ','], [4, 'H'], [0, '('], [3, 'r'], [0, 'b'], [18, 't'], [0, ')'], [4, 'G'], [17, 'e'], [0, 'o'], [0, 'r'], [0, 'g'], [3, ')'], [4, 'W'], [3, 'l'], [11, 's'], [4, '['], [0, '1'], [0, '8'], [0, '9'], [0, '7'], [0, ']'], [31, '.'], [0, '.'], [38, ']'], [4, 'I'], [4, 'g'], [24, 't'], [4, 'h'], [8, 'm'], [0, ','], [4, 's'], [14, 'i'], [0, 'd'], [4, 't'], [2, 'e'], [4, 'c'], [14, 'b'], [0, 'm'], [14, 'n'], [38, ' '], [1, 'h'], [12, 'b'], [14, 'r'], [53, 'a'], [6, \"'\"], [9, ' '], [25, 'e'], [48, ' '], [2, 'a'], [6, 'd'], [61, 'c'], [14, 'm'], [12, 'c'], [11, 'a'], [0, 'w'], [8, 'n'], [26, ' '], [14, 't'], [49, 'h'], [12, 'u'], [6, 's'], [3, 'e'], [6, '.'], [16, 'e'], [62, ' '], [50, ' '], [8, 's'], [0, '!'], [46, 'a'], [8, 'd'], [74, 'e'], [4, 'b'], [58, 'm'], [54, '.'], [4, 'M'], [25, '.'], [90, 'a'], [25, 'v'], [29, ','], [4, 'r'], [29, 'e'], [14, 's'], [3, 'd'], [45, ' '], [9, 'u'], [48, 'd'], [3, 'n'], [11, 'y'], [4, 'd'], [25, 'o'], [0, 'p'], [106, 'e'], [63, 't'], [24, ' '], [0, 't'], [81, 'g'], [105, 'u'], [65, ' '], [54, 'd'], [4, 'm'], [14, 'd'], [12, 'a'], [6, ' '], [73, 't'], [3, 'm'], [106, 't'], [49, 'o'], [51, 'r'], [14, 'w'], [11, ' '], [19, 'e'], [2, 'i'], [113, 't'], [81, 'l'], [3, 'g'], [61, 'o'], [0, 'f'], [86, ' '], [132, 'i'], [26, 'h'], [110, 'i'], [6, 'g'], [115, 'e'], [78, ' '], [56, 'e'], [46, 't'], [25, 'u'], [26, 'g'], [11, 'e'], [87, 'l'], [0, 'u'], [65, 'e'], [62, 'd'], [95, 'o'], [146, 'n'], [108, 'h'], [12, 'e'], [48, 'g'], [12, 'o'], [132, ' '], [110, 'h'], [12, 'd'], [24, 'o'], [91, ' '], [140, ' '], [7, 'o'], [8, 'c'], [154, 'f'], [133, 'I'], [6, 'v'], [82, 'i'], [19, 'l'], [12, 'M'], [54, ' '], [70, 'a'], [61, 'h'], [3, 'a'], [25, 'd'], [4, 'f'], [24, 'r'], [133, 'f'], [8, 'r'], [9, 't'], [49, 'i'], [53, 'e'], [99, 'y'], [29, 'l'], [71, 'g'], [4, 'o'], [146, 't'], [46, 'h'], [58, 'p'], [103, ','], [4, 'a'], [61, 't'], [81, 'p'], [24, 'l'], [162, 'e'], [59, 'n'], [49, 'r'], [24, 'd'], [184, 'n'], [43, 'i'], [61, 'f'], [158, 't'], [55, 'T'], [50, 'n'], [43, 'e'], [123, 'i'], [98, ' '], [24, 'u'], [110, ' '], [106, 'a'], [9, 's'], [8, 'o'], [6, 'a'], [110, 'e'], [103, ' '], [114, ' '], [127, 's'], [174, 'i'], [178, 's'], [174, 'l'], [3, 'w'], [149, 'u'], [113, 'l'], [8, 'k'], [12, 'f'], [69, 'i'], [30, '.'], [4, 'T'], [81, 'c'], [52, 'm'], [169, 's'], [146, 'd'], [48, 'e'], [6, 'l'], [0, 'y'], [4, 'w'], [2, 'o'], [24, 'p'], [205, 'a'], [113, 'd'], [206, 'b'], [144, 'd'], [4, 'u'], [106, ','], [4, 'k'], [162, 'k'], [205, 'u'], [147, 'r'], [133, 'd'], [8, 'a'], [106, 'h'], [25, 'a'], [26, 'm'], [201, 'h'], [157, 'o'], [175, ' '], [71, 't'], [109, 't'], [81, 'b'], [58, '-'], [208, 'r'], [11, 'o'], [146, 'r'], [174, 'r'], [24, 'm'], [133, 'k'], [8, 't'], [0, 'c'], [202, ' '], [9, 'l'], [67, 'm'], [237, 'n'], [63, 'c'], [24, 'v'], [18, 'e'], [63, 'M'], [159, 'M'], [58, 'v'], [29, \"'\"], [61, 'r'], [3, 't'], [62, 'a'], [110, '.'], [226, 'h'], [12, 'm'], [102, ' '], [71, ' '], [156, 'e'], [243, 'i'], [110, 'c'], [267, 'f'], [206, 'n'], [151, 'e'], [53, 's'], [29, 'v'], [3, 's'], [51, 'l'], [185, 'c'], [127, 'n'], [72, 'a'], [207, 'a'], [113, 's'], [110, 'r'], [146, 'g'], [26, 'l'], [183, ' '], [70, 'i'], [156, ' '], [120, 'p'], [110, 'y'], [189, 'i'], [91, 'EOF']]\n",
        "print(lz78decode(code))"
      ]
    },
    {
      "cell_type": "code",
      "execution_count": 20,
      "metadata": {
        "id": "-jsk81_7up7J",
        "outputId": "aa7b82fd-90b9-4d93-9071-e81405884ac7",
        "colab": {
          "base_uri": "https://localhost:8080/"
        }
      },
      "outputs": [
        {
          "output_type": "stream",
          "name": "stdout",
          "text": [
            "The Invisible Man, H(erbert) G(eorge) Wells [1897] [...] When he had been sitting for the best part of an hour, however, an elderly mariner, carrying a newspaper, came out of the inn and sat down beside him. Pleasant day, said the mariner. Mr. Marvel glanced about him with something very like terror. Very, he said. Just seasonable weather for the time of year, said the mariner, taking no denial. Quite, said Mr. Marvel. The mariner produced a toothpick, and (saving his regard) was engrossed thereby for some minutes. His eyes meanwhile were at liberty to examine Mr. Marvel's dusty figure, and the books beside him. As he had approached Mr. Marvel he had heard a sound like the dropping of coins into a pocket. He was struck by the contrast of Mr. Marvel's appearance with this suggestion of opulence. Thence his mind wandered back again to a topic that had taken a curiously firm hold of his imagination.\n"
          ]
        }
      ],
      "source": [
        "code=[[0, 'T'], [0, 'h'], [0, 'e'], [0, ' '], [0, 'I'], [0, 'n'], [0, 'v'], [0, 'i'], [0, 's'], [8, 'b'], [0, 'l'], [3, ' '], [0, 'M'], [0, 'a'], [6, ','], [4, 'H'], [0, '('], [3, 'r'], [0, 'b'], [18, 't'], [0, ')'], [4, 'G'], [17, 'e'], [0, 'o'], [0, 'r'], [0, 'g'], [3, ')'], [4, 'W'], [3, 'l'], [11, 's'], [4, '['], [0, '1'], [0, '8'], [0, '9'], [0, '7'], [0, ']'], [31, '.'], [0, '.'], [38, ']'], [28, 'h'], [3, 'n'], [4, 'h'], [12, 'h'], [14, 'd'], [4, 'b'], [3, 'e'], [6, ' '], [9, 'i'], [0, 't'], [49, 'i'], [6, 'g'], [4, 'f'], [24, 'r'], [4, 't'], [2, 'e'], [45, 'e'], [9, 't'], [4, 'p'], [14, 'r'], [49, ' '], [24, 'f'], [4, 'a'], [47, 'h'], [24, 'u'], [25, ','], [42, 'o'], [0, 'w'], [3, 'v'], [18, ','], [62, 'n'], [4, 'e'], [11, 'd'], [18, 'l'], [0, 'y'], [4, 'm'], [59, 'i'], [6, 'e'], [65, ' '], [0, 'c'], [59, 'r'], [74, 'i'], [51, ' '], [14, ' '], [77, 'w'], [9, 'p'], [14, 'p'], [69, ' '], [79, 'a'], [0, 'm'], [12, 'o'], [0, 'u'], [60, 'o'], [0, 'f'], [54, 'h'], [12, 'i'], [6, 'n'], [70, 'd'], [4, 's'], [14, 't'], [4, 'd'], [24, 'w'], [47, 'b'], [3, 's'], [8, 'd'], [43, 'i'], [89, '.'], [4, 'P'], [11, 'e'], [14, 's'], [14, 'n'], [60, 'd'], [14, 'y'], [0, ','], [98, 'a'], [104, ' '], [49, 'h'], [12, 'm'], [76, 'n'], [18, '.'], [4, 'M'], [25, '.'], [120, 'a'], [25, 'v'], [29, ' '], [26, 'l'], [110, 'c'], [3, 'd'], [62, 'b'], [64, 't'], [42, 'i'], [89, ' '], [67, 'i'], [116, ' '], [9, 'o'], [89, 'e'], [116, 'i'], [82, 'v'], [18, 'y'], [4, 'l'], [8, 'k'], [12, 't'], [18, 'r'], [53, '.'], [4, 'V'], [138, ','], [42, 'e'], [114, 'i'], [0, 'd'], [38, ' '], [0, 'J'], [91, 's'], [60, 's'], [3, 'a'], [134, 'n'], [14, 'b'], [108, ' '], [67, 'e'], [99, 'h'], [18, ' '], [93, 'o'], [25, ' '], [116, 'e'], [54, 'i'], [135, ' '], [61, ' '], [74, 'e'], [59, ','], [147, 'd'], [94, 'e'], [75, 'a'], [25, 'i'], [77, 'r'], [113, ' '], [49, 'a'], [0, 'k'], [8, 'n'], [26, ' '], [6, 'o'], [100, 'e'], [6, 'i'], [14, 'l'], [149, 'Q'], [91, 'i'], [49, 'e'], [173, 's'], [14, 'i'], [148, ' '], [13, 'r'], [149, 'M'], [59, 'v'], [29, '.'], [4, 'T'], [55, ' '], [89, 'a'], [171, 'n'], [159, 'p'], [25, 'o'], [148, 'u'], [79, 'e'], [187, 'a'], [54, 'o'], [24, 't'], [2, 'p'], [8, 'c'], [175, ','], [97, ' '], [17, 's'], [14, 'v'], [176, 'g'], [130, 's'], [4, 'r'], [3, 'g'], [59, 'd'], [21, ' '], [67, 'a'], [9, ' '], [41, 'g'], [197, 's'], [9, 'e'], [187, 't'], [55, 'r'], [3, 'b'], [74, ' '], [160, 'r'], [98, 'o'], [164, 'm'], [176, 'u'], [184, 's'], [149, 'H'], [8, 's'], [71, 'y'], [103, ' '], [135, 'a'], [6, 'w'], [2, 'i'], [156, 'w'], [18, 'e'], [62, 't'], [139, 'i'], [19, 'e'], [25, 't'], [223, 't'], [24, ' '], [3, 'x'], [14, 'm'], [176, 'e'], [120, 'r'], [189, 'a'], [123, 'e'], [11, \"'\"], [216, 'd'], [151, 't'], [223, 'f'], [8, 'g'], [91, 'r'], [3, ','], [206, 't'], [193, 'b'], [24, 'o'], [175, 's'], [56, 's'], [104, 'e'], [130, 'm'], [149, 'A'], [216, 'h'], [43, 'a'], [200, 'p'], [0, 'p'], [197, 'a'], [79, 'h'], [127, ' '], [188, '.'], [122, 'r'], [7, 'e'], [11, ' '], [193, 'h'], [44, ' '], [55, 'a'], [25, 'd'], [62, ' '], [134, 'u'], [6, 'd'], [239, 'k'], [141, 'h'], [12, 'd'], [197, 'p'], [268, 'i'], [82, 'o'], [93, ' '], [79, 'o'], [176, 's'], [4, 'i'], [6, 't'], [243, 'a'], [58, 'o'], [79, 'k'], [3, 't'], [229, 'e'], [4, 'w'], [109, ' '], [57, 'r'], [91, 'c'], [175, ' '], [19, 'y'], [169, ' '], [290, 'n'], [49, 'r'], [109, 't'], [4, 'o'], [289, 'M'], [121, ' '], [13, 'a'], [249, 'l'], [0, \"'\"], [216, 'a'], [268, 'p'], [153, 'r'], [126, 'e'], [299, 'i'], [133, 't'], [235, 's'], [98, 'u'], [26, 'g'], [103, 't'], [8, 'o'], [47, 'o'], [289, 'o'], [268, 'u'], [108, 'n'], [199, '.'], [192, 'h'], [41, 'c'], [105, 's'], [75, 'i'], [282, ' '], [215, 'n'], [148, 'e'], [25, 'e'], [187, 'b'], [14, 'c'], [303, 'a'], [26, 'a'], [176, ' '], [49, 'o'], [280, 't'], [24, 'p'], [204, ' '], [116, 'a'], [60, 'h'], [277, 't'], [14, 'k'], [41, ' '], [83, 'c'], [255, 'i'], [64, 's'], [11, 'y'], [52, 'i'], [25, 'm'], [66, 'l'], [187, 'o'], [289, 'h'], [230, ' '], [8, 'm'], [14, 'g'], [176, 'a'], [50, 'o'], [6, '.'], [0, 'EOF']]\n",
        "print(lz78decode(code))"
      ]
    },
    {
      "cell_type": "markdown",
      "metadata": {
        "id": "k1iYEjVCup7K"
      },
      "source": [
        "## Lempel Ziv y Welch (LZW)"
      ]
    },
    {
      "cell_type": "code",
      "execution_count": null,
      "metadata": {
        "id": "GtGszTVMup7L"
      },
      "outputs": [],
      "source": [
        "def lzwcode(mensaje):\n",
        "    codigo = []\n",
        "    return codigo"
      ]
    },
    {
      "cell_type": "code",
      "execution_count": 7,
      "metadata": {
        "id": "3mwhZkjSup7L"
      },
      "outputs": [],
      "source": [
        "def lzwdecode(alfabeto,codigo):\n",
        "    mensaje = \"\"\n",
        "    old = \"\"\n",
        "    new_ind = len(alfabeto) + 1\n",
        "    diccionario = dict([(num+1, alfabeto[num]) for num in range(len(alfabeto))])\n",
        "    diccionario[0] = ''\n",
        "\n",
        "    for ind in codigo:\n",
        "\n",
        "        if not(ind in diccionario):\n",
        "            current = old[0]\n",
        "            mensaje += old + old[0]\n",
        "        else:\n",
        "            current = diccionario[ind]\n",
        "            mensaje += current\n",
        "\n",
        "        for char in current:\n",
        "            old += char\n",
        "            if not (old in diccionario.values()):\n",
        "                diccionario[new_ind] = old\n",
        "                new_ind += 1\n",
        "                old = old[-1]\n",
        "\n",
        "    return mensaje"
      ]
    },
    {
      "cell_type": "code",
      "execution_count": 22,
      "metadata": {
        "colab": {
          "base_uri": "https://localhost:8080/"
        },
        "id": "yGgeIIUHup7N",
        "outputId": "fe23ea68-1f3b-4266-ad10-8cfb4e0d9bda"
      },
      "outputs": [
        {
          "output_type": "stream",
          "name": "stdout",
          "text": [
            "The Time Machine, H(erbert) G(eorge) Wells [1895] [...] “While I was musing upon these things, my attention was attracted by a pretty little structure, like a well under a cupola. I thought in a transitory way of the oddness of wells still existing, and then resumed the thread of my speculations. There were no large buildings towards the top of the hill, and as my walking powers were evidently miraculous, I was presently left alone for the first time. With a strange sense of freedom and adventure I pushed on up to the crest. “There I found a seat of some yellow metal that I did not recognise, corroded in places with a kind of pinkish rust and half smothered in soft moss, the arm-rests cast and filed into the resemblance of griffins’ heads. I sat down on it, and I surveyed the broad view of our old world under the sunset of that long day. It was as sweet and fair a view as I have ever seen. The sun had already gone below the horizon and the west was flaming gold, touched with some horizontal bars of purple and crimson. Below was the valley of the Thames, in which the river lay like a band of burnished steel. I have already spoken of the great palaces dotted about among the variegated greenery, some in ruins and some still occupied. Here and there rose a white or silvery figure in the waste garden of the earth, here and there came the sharp vertical line of some cupola or obelisk. There were no hedges, no signs of proprietary rights, no evidences of agriculture; the whole earth had become a garden.\n"
          ]
        }
      ],
      "source": [
        "code=[17, 28, 25, 1, 17, 29, 32, 49, 16, 21, 23, 28, 29, 33, 25, 4, 1, 14, 2, 25, 36, 22, 66, 38, 3, 1, 13, 65, 34, 36, 27, 25, 71, 18, 25, 31, 31, 37, 1, 19, 7, 9, 10, 8, 20, 85, 6, 93, 91, 46, 18, 58, 31, 49, 15, 1, 41, 21, 84, 32, 39, 37, 59, 27, 1, 39, 35, 34, 33, 1, 38, 48, 37, 49, 117, 109, 37, 62, 32, 43, 1, 21, 38, 38, 25, 33, 38, 29, 114, 102, 104, 127, 129, 36, 56, 130, 24, 1, 22, 126, 21, 1, 35, 36, 25, 129, 126, 31, 29, 129, 99, 1, 37, 38, 36, 39, 23, 38, 39, 150, 62, 154, 30, 49, 147, 41, 81, 31, 111, 33, 24, 66, 127, 1, 23, 112, 34, 31, 21, 6, 1, 101, 117, 34, 39, 27, 28, 38, 1, 59, 179, 160, 21, 33, 108, 38, 75, 126, 103, 126, 34, 26, 116, 48, 1, 34, 24, 24, 60, 37, 84, 207, 102, 173, 84, 159, 29, 82, 1, 25, 42, 29, 222, 33, 27, 62, 199, 143, 117, 131, 1, 150, 37, 39, 53, 234, 210, 117, 150, 21, 143, 218, 125, 158, 35, 25, 181, 184, 133, 114, 37, 186, 47, 66, 49, 172, 150, 1, 33, 34, 1, 184, 76, 49, 22, 39, 223, 24, 122, 116, 34, 103, 36, 24, 84, 235, 276, 35, 211, 208, 282, 98, 31, 232, 176, 127, 105, 204, 21, 31, 30, 109, 148, 277, 66, 84, 262, 49, 25, 40, 29, 177, 132, 31, 126, 32, 29, 140, 253, 190, 123, 187, 136, 84, 149, 25, 119, 309, 153, 25, 26, 194, 295, 114, 49, 26, 75, 209, 331, 313, 159, 116, 52, 25, 186, 18, 155, 28, 179, 159, 140, 230, 49, 323, 119, 285, 1, 26, 150, 25, 24, 34, 32, 127, 291, 246, 40, 131, 164, 263, 101, 35, 107, 48, 247, 115, 112, 276, 334, 180, 238, 38, 186, 46, 259, 366, 353, 190, 361, 158, 25, 128, 352, 37, 358, 49, 43, 173, 277, 1, 53, 38, 295, 209, 388, 101, 274, 143, 265, 194, 150, 23, 34, 27, 33, 228, 61, 180, 75, 36, 212, 356, 195, 115, 35, 184, 23, 322, 102, 343, 179, 297, 291, 218, 35, 59, 297, 37, 344, 161, 337, 233, 1, 28, 295, 208, 37, 32, 34, 235, 150, 143, 196, 390, 327, 396, 34, 216, 62, 282, 21, 36, 32, 5, 377, 84, 23, 104, 328, 291, 26, 223, 418, 59, 202, 375, 238, 25, 32, 22, 184, 33, 423, 352, 27, 36, 29, 26, 467, 200, 45, 439, 387, 280, 186, 101, 37, 388, 357, 41, 115, 135, 155, 290, 143, 492, 165, 363, 393, 242, 270, 416, 246, 1, 306, 25, 41, 352, 190, 36, 211, 31, 143, 41, 75, 518, 175, 177, 516, 282, 239, 200, 151, 352, 117, 388, 31, 114, 110, 24, 21, 43, 491, 194, 103, 84, 137, 37, 172, 529, 438, 26, 21, 313, 179, 511, 513, 137, 101, 440, 363, 225, 363, 516, 119, 131, 258, 210, 527, 439, 509, 295, 245, 24, 126, 27, 330, 144, 81, 395, 287, 75, 29, 44, 135, 438, 282, 172, 337, 541, 353, 184, 312, 230, 1, 572, 518, 455, 190, 57, 418, 41, 426, 390, 53, 439, 578, 580, 132, 399, 22, 457, 217, 208, 368, 36, 421, 170, 291, 23, 482, 32, 390, 33, 186, 12, 575, 513, 586, 282, 40, 295, 99, 206, 286, 210, 47, 21, 53, 317, 196, 41, 58, 57, 472, 29, 559, 267, 537, 267, 29, 169, 179, 607, 429, 208, 271, 36, 411, 434, 418, 159, 25, 81, 491, 566, 557, 568, 489, 126, 37, 113, 169, 497, 631, 49, 481, 387, 194, 35, 295, 56, 424, 357, 129, 418, 21, 22, 190, 328, 444, 590, 626, 457, 29, 25, 27, 128, 418, 673, 131, 66, 43, 62, 600, 49, 196, 161, 59, 542, 291, 701, 158, 133, 224, 34, 23, 181, 431, 356, 186, 14, 260, 360, 506, 263, 416, 351, 171, 58, 130, 211, 560, 223, 559, 126, 467, 27, 165, 702, 115, 583, 464, 672, 457, 308, 530, 210, 387, 36, 117, 62, 48, 263, 582, 749, 49, 463, 601, 526, 440, 612, 510, 69, 29, 463, 174, 154, 60, 389, 391, 180, 182, 184, 728, 211, 68, 154, 37, 30, 563, 719, 303, 264, 266, 370, 77, 317, 265, 158, 29, 410, 609, 148, 416, 149, 691, 398, 36, 126, 482, 192, 38, 784, 266, 305, 307, 131, 423, 789, 21, 481, 761, 39, 31, 365, 25, 11, 375, 638, 183, 304, 457, 117, 566, 143, 68, 408, 601, 147, 693, 279, 562, 0]\n",
        "alfabeto=[' ', '(', ')', ',', '-', '.', '1', '5', '8', '9', ';', 'B', 'G', 'H', 'I', 'M', 'T', 'W', '[', ']', 'a', 'b', 'c', 'd', 'e', 'f', 'g', 'h', 'i', 'k', 'l', 'm', 'n', 'o', 'p', 'r', 's', 't', 'u', 'v', 'w', 'x', 'y', 'z', '’', '“']\n",
        "print(lzwdecode(alfabeto,code))"
      ]
    },
    {
      "cell_type": "code",
      "source": [
        "code=[23, 36, 33, 1, 23, 37, 40, 56, 21, 29, 31, 36, 37, 41, 33, 5, 1, 18, 3, 33, 44, 30, 73, 46, 4, 1, 17, 72, 42, 44, 35, 33, 78, 25, 33, 39, 39, 45, 1, 27, 7, 9, 10, 8, 28, 92, 6, 100, 98, 53, 13, 41, 32, 1, 55, 44, 56, 19, 1, 40, 47, 45, 46, 1, 29, 32, 40, 37, 116, 46, 36, 29, 116, 111, 39, 33, 29, 44, 41, 116, 48, 73, 51, 1, 39, 121, 46, 128, 1, 42, 34, 1, 32, 44, 29, 66, 91, 29, 105, 1, 75, 89, 150, 152, 40, 42, 32, 33, 91, 143, 1, 31, 42, 41, 134, 51, 151, 31, 68, 117, 152, 123, 56, 138, 38, 56, 165, 167, 33, 41, 37, 182, 171, 45, 69, 32, 47, 44, 66, 35, 112, 136, 46, 59, 56, 66, 1, 123, 37, 91, 109, 29, 39, 1, 34, 47, 46, 190, 33, 6, 1, 19, 41, 1, 45, 42, 60, 142, 144, 175, 45, 56, 48, 202, 37, 166, 162, 144, 24, 46, 42, 43, 37, 29, 156, 106, 165, 120, 41, 193, 196, 60, 91, 49, 65, 64, 214, 107, 29, 134, 1, 204, 32, 69, 175, 109, 1, 202, 117, 1, 48, 237, 116, 29, 158, 47, 132, 221, 145, 33, 46, 148, 206, 29, 30, 42, 209, 153, 47, 37, 39, 32, 192, 69, 151, 106, 218, 31, 236, 276, 44, 147, 242, 33, 60, 132, 187, 173, 289, 42, 207, 82, 123, 213, 14, 280, 247, 283, 56, 45, 47, 249, 160, 274, 283, 150, 259, 129, 45, 136, 182, 279, 35, 36, 200, 303, 42, 30, 317, 216, 247, 182, 200, 55, 1, 247, 42, 141, 49, 82, 284, 260, 91, 180, 332, 33, 106, 199, 166, 33, 52, 91, 59, 29, 35, 66, 125, 228, 41, 257, 55, 136, 130, 56, 205, 233, 84, 258, 260, 41, 63, 186, 45, 37, 30, 141, 233, 262, 204, 206, 46, 147, 134, 89, 73, 117, 120, 289, 314, 327, 382, 121, 184, 150, 91, 111, 34, 279, 152, 108, 212, 1, 15, 166, 171, 37, 253, 175, 200, 205, 56, 163, 20, 166, 32, 166, 338, 248, 327, 29, 1, 67, 35, 44, 42, 69, 34, 109, 45, 327, 430, 219, 405, 182, 384, 205, 1, 13, 430, 37, 31, 29, 69, 342, 47, 344, 274, 178, 153, 63, 38, 328, 107, 261, 384, 377, 33, 2, 1, 25, 124, 116, 447, 344, 337, 38, 41, 42, 49, 271, 147, 283, 49, 29, 136, 240, 43, 151, 396, 69, 163, 290, 292, 112, 42, 134, 298, 46, 300, 163, 46, 88, 33, 43, 36, 352, 301, 200, 495, 426, 29, 497, 338, 37, 431, 483, 222, 337, 22, 130, 171, 90, 1, 16, 88, 409, 135, 405, 219, 480, 41, 51, 287, 152, 43, 42, 115, 439, 82, 160, 44, 238, 336, 176, 37, 178, 12, 1, 26, 273, 338, 172, 125, 137, 321, 46, 69, 432, 279, 344, 75, 506, 89, 192, 1, 324, 47, 326, 455, 33, 50, 43, 39, 148, 216, 223, 56, 201, 242, 91, 380, 65, 40, 461, 104, 106, 33, 134, 216, 163, 247, 546, 468, 67, 49, 69, 498, 472, 113, 249, 165, 448, 106, 337, 40, 29, 451, 65, 91, 269, 438, 386, 128, 106, 442, 182, 579, 121, 108, 117, 43, 43, 109, 55, 152, 82, 153, 518, 580, 33, 540, 54, 182, 363, 66, 454, 590, 424, 130, 427, 472, 411, 35, 504, 620, 46, 49, 33, 335, 423, 425, 427, 500, 423, 310, 494, 112, 151, 271, 279, 44, 142, 49, 568, 197, 300, 288, 107, 471, 506, 160, 536, 372, 494, 44, 264, 206, 75, 639, 641, 216, 40, 51, 224, 39, 144, 660, 569, 271, 411, 17, 340, 160, 216, 13, 84, 461, 111, 476, 91, 224, 41, 376, 378, 414, 144, 592, 327, 310, 249, 692, 1, 269, 224, 626, 500, 702, 327, 347, 191, 30, 209, 349, 455, 675, 164, 219, 400, 44, 46, 11, 281, 116, 45, 252, 56, 721, 262, 84, 67, 147, 206, 59, 615, 161, 376, 419, 163, 29, 209, 219, 360, 31, 142, 83, 481, 727, 196, 166, 69, 399, 129, 654, 111, 444, 216, 180, 168, 263, 520, 138, 46, 140, 698, 665, 285, 34, 34, 73, 185, 570, 303, 51, 653, 112, 66, 32, 6, 0]\n",
        "alfabeto=[' ', '!', '(', ')', ',', '.', '1', '5', '8', '9', ';', '?', 'A', 'B', 'C', 'D', 'G', 'H', 'I', 'L', 'M', 'P', 'T', 'U', 'W', 'Y', '[', ']', 'a', 'b', 'c', 'd', 'e', 'f', 'g', 'h', 'i', 'k', 'l', 'm', 'n', 'o', 'p', 'r', 's', 't', 'u', 'v', 'w', 'x', 'y', '’', '“']\n",
        "print(lzwdecode(alfabeto,code))"
      ],
      "metadata": {
        "colab": {
          "base_uri": "https://localhost:8080/"
        },
        "id": "uVcvP6n0Wqn1",
        "outputId": "cb32cf27-13a3-4f02-c3c2-7bc8e46c5eec"
      },
      "execution_count": 23,
      "outputs": [
        {
          "output_type": "stream",
          "name": "stdout",
          "text": [
            "The Time Machine, H(erbert) G(eorge) Wells [1895] [...] “And here I must admit that I learnt very little of drains and bells and modes of conveyance, and the like conveniences, during my time in this real future. In some of these visions of Utopias and coming times which I have read, there is a vast amount of detail about building, and social arrangements, and so forth. But while such details are easy enough to obtain when the whole world is contained in one’s imagination, they are altogether inaccessible to a real traveller amid such realities as I found here. Conceive the tale of London which a negro, fresh from Central Africa, would take back to his tribe! What would he know of railway companies, of social movements, of telephone and telegraph wires, of the Parcels Delivery Company, and postal orders and the like? Yet we, at least, should be willing enough to explain these things to him! And even of what he knew, how much could he make his untravelled friend either apprehend or believe? Then, think how narrow the gap between a negro and a white man of our own times, and how wide the interval between myself and these of the Golden Age! I was sensible of much which was unseen, and which contributed to my comfort; but save for a general impression of automatic organisation, I fear I can convey very little of the difference to your mind.\n"
          ]
        }
      ]
    },
    {
      "cell_type": "code",
      "source": [
        "offset_table = {0: (0, 1), 1: (0, 2), 2: (0, 3), 3: (0, 4), 4: (1, 5), 5: (1, 7), 6: (2, 9), 7: (2, 13), 8: (3, 17), 9: (3, 25), 10: (4, 33), 11: (4, 49), 12: (5, 65), 13: (5, 97), 14: (6, 129), 15: (6, 193), 16: (7, 257), 17: (7, 385), 18: (8, 513), 19: (8, 769), 20: (9, 1025), 21: (9, 1537), 22: (10, 2049), 23: (10, 3073), 24: (11, 4097), 25: (11, 6145), 26: (12, 8193), 27: (12, 12289), 28: (13, 16385), 29: (13, 24577)}\n",
        "\n",
        "match_table = {257: (0, 3), 258: (0, 4), 259: (0, 5), 260: (0, 6), 261: (0, 7), 262: (0, 8), 263: (0, 9), 264: (0, 10), 265: (1, 11), 266: (1, 13), 267: (1, 15), 268: (1, 17), 269: (2, 19), 270: (2, 23), 271: (2, 27), 272: (2, 31), 273: (3, 35), 274: (3, 43), 275: (3, 51), 276: (3, 59), 277: (4, 67), 278: (4, 83), 279: (4, 99), 280: (4, 115), 281: (5, 131), 282: (5, 163), 283: (5, 195), 284: (5, 227), 285: (0, 258)}\n",
        "\n",
        "def access_table(lit,code,table):\n",
        "    num_bits, base = table.get(lit, (None, None))\n",
        "    sum = 0\n",
        "    if num_bits > 0:\n",
        "        sum = int(code[:num_bits], 2)\n",
        "        code = code[num_bits:]\n",
        "    return (base + sum), code\n",
        "\n",
        "def deflatedecode(code):\n",
        "    mensaje = bytearray()\n",
        "    #tenemos una cierta noción de cuando podemos esperar un literal o no\n",
        "    lit_match = True\n",
        "    lenght = 0\n",
        "\n",
        "    while(len(code) > 0):\n",
        "\n",
        "        #buscamos en el primer alfabeto\n",
        "        if lit_match:\n",
        "            current = code[:7]\n",
        "            code = code[7:]\n",
        "\n",
        "            #256 - 279 match lengh\n",
        "            if \"0000000\" <= current <= \"0010111\":\n",
        "                lit_value = int(current, 2) + 256\n",
        "                lenght, code = access_table(lit_value,code,match_table)\n",
        "                lit_match = False\n",
        "            else:\n",
        "                current += code[:1]\n",
        "                code = code[1:]\n",
        "                #0 - 143 literal\n",
        "                if \"00110000\" <= current <= \"10111111\":\n",
        "                    lit_value = int(current, 2) - 48\n",
        "                    mensaje.append(lit_value)\n",
        "\n",
        "                #280 - 287 match lenght\n",
        "                elif \"11000000\" <= current <= \"11000111\":\n",
        "                    lit_value = int(current, 2) - 192\n",
        "                    lenght, code = access_table(lit_value,code,match_table)\n",
        "                    lit_match = False\n",
        "                else:\n",
        "                    current += code[:1]\n",
        "                    code = code[1:]\n",
        "                    #144 - 255 literal\n",
        "                    if \"110010000\" <= current <= \"111111111\":\n",
        "                        lit_value = int(current, 2) - 256\n",
        "                        mensaje.append(lit_value)\n",
        "\n",
        "        #buscamos en el segundo alfabeto\n",
        "        else:\n",
        "            current = code[:5]\n",
        "            code = code[5:]\n",
        "            offset, code = access_table(int(current,2),code,offset_table)\n",
        "            #tal y como hacemos en lz77\n",
        "            for i in range(0,lenght):\n",
        "                mensaje.append(mensaje[-offset])\n",
        "\n",
        "            lit_match = True\n",
        "\n",
        "    return mensaje.decode(\"utf-8\")\n"
      ],
      "metadata": {
        "id": "9VjXqjiogUJF"
      },
      "execution_count": 16,
      "outputs": []
    },
    {
      "cell_type": "code",
      "source": [
        "code=\"1000010010011000100101010101000010000111100100011010001001010000100111111001011001010000101001000000010001101010011111101000101001110010010100101000110101110001010000011110000101100010010101101000101001001010010101101000101010010001011001010100000111011101011000100101011001111110100010100101111001010101011001010100001000011110010101100111001001110010100011010100001000101101100001011010000110100101101000100011010101000010001011010111100101111001011110100011010101000001111001101001000101000010100111100100011010001100000010101110001001100110100011010100001001100010011111101001111001110010011001100111101001011101010000100100011001111010010100010100001001011010011001101000100000010001101000001010110010011100101111010010110011110101000110101000010010001101001000101000010000010100110011010000010011100100101011010100100000110101000001000001110100100010111100101000001110111000001101100101111111000101011000011001100110100011010100000111100010011001100111001001110000000010101010100000001010100011101001111001010101010000100110001001000110010100010100001001100010010101100100011010001010010100000001001011001110000101101000001010000010010101101000100101000001111000100100011001110010011100100110011001011010011111101000101001010001011110010100000000010011101011110000101011000100000000010110010111100111101001010110100010000000101110101100000000101100111111001010110010001101000111001111110011110100101010000001010110010101000101010010000000010110001011100101011010001010101001010100001010011010011111100111001010010110011110101001001001010100000010101000000101000010100111100110001001111101010000100111111010010110010111100110001010010001010000100111101001010110100110000000101100011101010010010011111000000101101001001010011010010101010100001001001010010101100101011001111001010000101000001001110010010001100100110000001010111000100110011001111001010000101000111010010110010011100110000101000010010001010100001010000010011111101000111001100110100100100110011001111110011110010111000000010011110001100000001010010010000001011001011101010000101001111001100110011100100101000101110001010000101000001010001010010101100111011001000110100100101001011010001010010101010111000000001010101110100101011001011010010110100101011001001110100100101001011001000110011100000001001101010010000001011100011100101110000000110111101100010010010100111111001110010100100000001101011001100000011000000011111010001010100011100101010000100100000001101100111111001111110100100000000101111011101101000100000010011100000100000011100000010000100101001001010110100011000000110000101101000000010101001101010011000000010111010101110010001100101110000001011000111010100111100110001001100110011100100101010000011010010110111110100000100111100000110010001000000101101111001010011110011001101001001001100010011111101001011010010001010000101001011010001100000101000010010100000010100001100001011110001001010110010001101001000101110110000010100100010000001011010100110100111100100011001110010011011000000101011111000000010110000101100101011001111010010101100111001010100101010000100111110000011011110101011001100010010101100110011010001000000111000011011000101110001010000101000111010010010010101000000110000011100010010100010100001001011100000010101110111001010110100010000000101010000110010001100111011001111100000010110000101000000101010001010011101000000101111000110100100011010001110100011000010001111110001100101101010001010011111100111101010010000001011000101001100000001010010000000010011101011001010001110011111010100001001001110010001100111011001010100000011000010100111001010110101000101000000000001011111000001001010110010100000000101011110110100101101000000000001011110100000000111100011001010000000101011100010000000100100011001100110011110101000110000001011101100111001110000000010011001101000101001101100000110111011111100000011000001110110000100011110110101010010010100010100111111010100110010101000010110001010100100011010110001110011110011101100101010000001011110111010000001100100010110100000101000100010100000001010111001000000101111000011000000110001000100010100100101001000000001011110000011001110000000101000001110010000011100101000101010010001000011001000010100111010000001001010100111001001010101011110000000101011100110010100100101000000001100010101100100100100000001011110010010101000010100000000000110000111110001010000101001111001111110011111000000110001110110100000101001001111011000000110010000010010000010011000010001011100000010000110101010001110010101100101011001110100010101100011100000101000011010010110011001101001000000010011110011111010001110100101101000110000100011110100000000010011000010100010010100001101010000000110010000101001001000110100010000000101110110110000001001011010100000101000000001110000011011101110011010100101010000100111001001000110011001100101000001001010000101001100000100110101011100101001001010110011100100110010000001100110001010010010001101001000000010100001110011000000100111111001100100000111000001110001010100100000111001010110001000001101101010100000001100000100101101000001001000110100010100100011001010000000010111000110000001011001100000110000001010010100100101010010001010000100100011001001000000101000110010011001000100000010101011011001111110100101101000110000010010010011010100100000011001011011110101000110000001100000010010010100001010001010010001000000110001010000001011110\"\n",
        "print(deflatedecode(code))"
      ],
      "metadata": {
        "id": "59OwITvGgUZC",
        "colab": {
          "base_uri": "https://localhost:8080/"
        },
        "outputId": "a6ac10fa-19cd-412d-fd26-d5d63e371b9a"
      },
      "execution_count": 17,
      "outputs": [
        {
          "output_type": "stream",
          "name": "stdout",
          "text": [
            "The War of the Worlds, H(erbert) G(eorge) Wells [1898] [...] It was this howling and firing of the guns at Ripley and St. George’s Hill that we had heard at Upper Halliford. The Ripley gunners, unseasoned artillery volunteers who ought never to have been placed in such a position, fired one wild, premature, ineffectual volley, and bolted on horse and foot through the deserted village, while the Martian, without using his Heat-Ray, walked serenely over their guns, stepped gingerly among them, passed in front of them, and so came unexpectedly upon the guns in Painshill Park, which he destroyed. The St. George’s Hill men, however, were better led or of a better mettle. Hidden by a pine wood as they were, they seem to have been quite unsuspected by the Martian nearest to them. They laid their guns as deliberately as if they had been on parade, and fired at about a thousand yards’ range.\n"
          ]
        }
      ]
    },
    {
      "cell_type": "code",
      "source": [
        "code=\"100001001001100010010101010100001000011110010001101000100101000010011111100101100101000010100100000001000110101001111110100010100111001001010010100011010111000101000001111000010110001001010110100010100100101001010110100010101001000101100101010000011101110101100010010101100111111010001010010111100101010101100101010000100001111001010110011100100111001010001101010000100010110110000101101000011010010110100010001101010100001000101101011110010111100101111010001101010100000111111110011110000000101000101100101001001111010010101101000111001010010010001101010010000011010111110101001001001100010100010100101011001010101010000100101101010010110010111100110011010010010011001101001101001010110100011111100010101100001100101000000001010001011010100101010000100110001001000110010100010100001010000010010001101000111010001110010101100101000000011010100101100111101001100110010111100110001010010001010000100110011001111001010000100100010101000010010110100110011001010110011100100101000000010011011110010100101100111101010001010011001101000001001010101010000101001111001100010010101100100011010010000000010101101101010001010010101100100011001001110011000000000101010111001110011100110001001010110011100100111011010001110010110100111111010001010010100010111000101000010010001100111100000011010111110101000101001010100000010101101111001001010011111100101001010100100001100111011001110011001100111101001100010010001100100101001100110100100100100011001111010100100000000101110111000100100111001000110011100100111001001100110011110100101110101000010011001101001001010001110010101100111000000100010011110111001110011111100111011001110110011001101001001010010000000010111001100000000010101100001000000010100101100100101001110010011001100100110101000010000011101001011010000010100000100111001010100101011100010100001010001110010101100110011010101000001010111001010110100000100111111001111010101001010100001001000110100011010100001010000010100010100111111010011010011001101000111001100110011111100111100000001011000110100000100110110010101001111001111110100101000000101110100010100101110000001011110011110101000010011110100111111010010010011000000001101100111001001111001010000100101011010100010010011100110001001000110011110100101110000001011111011001001111110100010000000101101011000101000010010010101001011010010000001000110000101101000101001111110011101100110011010001100000110110101010100100010101000010100011100110001001000100000010111010110100000010101011010000001010100000000001101111111000100101011010100010100100010100000000001100000101011010111100101000001111000000001001111000110000010001111001100101001110000010001000101000101010010110011101100111111010010110100010101000110000010010110110011111011001000110100010101001001001100110010001100111101010001101010000100100011010010001010000011101011010000010100000000000101101011110000100011100001111001111010010101101001110000011010011110000010011000100010010100100101011010001110100100101000101010010110010011101001000000001011101001010000010010000101000011110010001100111001010010010011000100100011001110101010000011100011001001010010010000000110000110110110000000100111111010011110010100100101011010001001010000011111011001100100000101000101011110000011100001100101101001101001000100000100010100000001100000000010100111011010000000000010111000100010011111010100001001001010011100100111111010011101010000101001011010000001010000100111111001111000000110111010100000001001000010001001010011010010001000000101011010110100011010111100101000010000000100101011001111110100000100111000000101011100101101010011110010001101001001001001100000110111111000100000100111110010100001110111001100000000110111011011010010110000000101111101000000001101011100110010011100110001010010110100010100100111001100000000010110010110000000101011000100000010101111100111110110101001010100001001001010100010000000110000010011110010101101000100101110001010000101001101001010110100010101010010101000010011100101001011001001110011011100110011001110010101001000001101100000101001100010011001100111010000010100001100010000000110000000111000000101000001111011001001110010101000000110001101010110100000101000101001010110010110100101011010001010100010000001010001000010010011111010100001010000010100101101000111001100000000010111001010100000100111111101010011111000000101001110000001001000010000001101101000101001111110010001101000111010010001010000101000101001000100000100110010101000000101000000100100011001111000000010111001100000000010110000011000001001100100011001011010011111100111110000010100100001101000000010111111111110011111101001011001011110011000000000100110001001110000001011001010000100000010001111010111100111010000100011110001110000011011100010001001100010100101100111101001011110100010000000110000111101101110010101010010101000010011101100110011001010000001011001010110010101010010001000100101001100010100010000001101100000011000010000000011000001101100000001011111100010000001100001001110010111000000001100101000110110011001100100111001100000000011001000100100101001001010001000000101000111010100000001011110000111001010110011110000001001010001100000101001000110110100101011001110100001000111011000110010010100101010101000010100001101001011001100110100100100101010101000010100011100110011001110010010101100111101010010000000111000101010010000001100010011101000000110011001110100000010011110111001010001110010001000000110010001101010000010011101001100000001100101110100110010101101001110000001100110001100000000011000010000010000001010000011010000010011100101001011001111000000011000011011000000001100000101111000001001110010100101001000000110100001100000000001001111001011010111100101000001111110100101010000001100111000111000010000111000010100001000111010010010100011101001011001010010010100100101011001111000000010111000000110010011100100011001110100000111001001010001101000110000011100110100001100001011000101111001010001110010101100100010000111100110001111001010000100111011001111100000011000001010111001000110011101100100011010101000000100110010110100100111010001000000011001000001100000001001010011010100011100110001001100100000111001001001011000001110010100110000000001100000100100101000111001111110100010101001001010001100000101000010010110000001100111000100000000010001000000011001011110110100111111010001110100011100110011001001000000011000111110000000001011110101001001100110011101100100011001011110011001100111101001010101011110\"\n",
        "print(deflatedecode(code))"
      ],
      "metadata": {
        "id": "modorCsxgUki",
        "colab": {
          "base_uri": "https://localhost:8080/"
        },
        "outputId": "e440e15c-3169-43b7-fb4e-62e8962c7fa4"
      },
      "execution_count": 18,
      "outputs": [
        {
          "output_type": "stream",
          "name": "stdout",
          "text": [
            "The War of the Worlds, H(erbert) G(eorge) Wells [1898] [...] On Wednesday the three fugitives—they had passed the night in a field of unripe wheat—reached Chelmsford, and there a body of the inhabitants, calling itself the Committee of Public Supply, seized the pony as provisions, and would give nothing in exchange for it but the promise of a share in it the next day. Here there were rumours of Martians at Epping, and news of the destruction of Waltham Abbey Powder Mills in a vain attempt to blow up one of the invaders. People were watching for Martians here from the church towers. My brother, very luckily for him as it chanced, preferred to push on at once to the coast rather than wait for food, although all three of them were very hungry. By midday they passed through Tillingham, which, strangely enough, seemed to be quite silent and deserted, save for a few furtive plunderers hunting for food. Near Tillingham they suddenly came in sight of the sea, and the most amazing crowd of shipping of all sorts that it is possible to imagine.\n"
          ]
        }
      ]
    }
  ],
  "metadata": {
    "kernelspec": {
      "display_name": "Python 3",
      "language": "python",
      "name": "python3"
    },
    "language_info": {
      "codemirror_mode": {
        "name": "ipython",
        "version": 3
      },
      "file_extension": ".py",
      "mimetype": "text/x-python",
      "name": "python",
      "nbconvert_exporter": "python",
      "pygments_lexer": "ipython3",
      "version": "3.11.8"
    },
    "colab": {
      "provenance": []
    }
  },
  "nbformat": 4,
  "nbformat_minor": 0
}