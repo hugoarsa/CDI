{
 "cells": [
  {
   "cell_type": "markdown",
   "id": "accepting-craps",
   "metadata": {
    "execution": {
     "iopub.execute_input": "2021-03-05T08:13:41.021068Z",
     "iopub.status.busy": "2021-03-05T08:13:41.020706Z",
     "iopub.status.idle": "2021-03-05T08:13:41.039843Z",
     "shell.execute_reply": "2021-03-05T08:13:41.038709Z",
     "shell.execute_reply.started": "2021-03-05T08:13:41.021028Z"
    }
   },
   "source": [
    "# Funciones auxiliares\n"
   ]
  },
  {
   "cell_type": "code",
   "execution_count": 126,
   "id": "02e2687a",
   "metadata": {},
   "outputs": [],
   "source": [
    "import math\n",
    "import random\n",
    "\n",
    "def e3_condition(l, u, u_start):\n",
    "\treturn l >= (u_start)/4 and l < 3*(u_start)/4 and u >= (u_start)/4 and u < 3*(u_start)/4\n",
    "\n",
    "def padd_bin(num,m):\n",
    "\treturn f\"{num:0{m}b}\"\n",
    "\n",
    "def compare_msb(x, y, m):\n",
    "\tx_bin = padd_bin(x,m)\n",
    "\ty_bin = padd_bin(y,m)\n",
    "\treturn x_bin[0] == y_bin[0]\n",
    "\n",
    "def msb(x, m):\n",
    "\tx_bin = padd_bin(x,m)\n",
    "\treturn x_bin[0]\n",
    "\n",
    "def complement_bit(bit):\n",
    "    return '1' if bit == '0' else '0'"
   ]
  },
  {
   "cell_type": "markdown",
   "id": "1ee1edd0",
   "metadata": {},
   "source": [
    "# Función IntegerArithmeticCode\n",
    "\n",
    "**Definir una función** `IntegerArithmeticCode(mensaje, alfabeto, frecuencias)` **que dado un $mensaje$ en el que se ha utilizado el $alfabeto$ con las correspondientes $frecuencias$ devuelva el resultado de codificar dicho mensaje usando codificación aritmética entera en el intervalo de trabajo $[0,R)$.**\n",
    "\n",
    "\n",
    "Frecuencias: $f(1)$,..., $f(n)$, $f(i)$ entero\n",
    "\n",
    "Frecuencias acumuladas:\n",
    "\n",
    "* $F(0)=0$, \n",
    "* $F(i)=\\sum_{k=1}^{i}f(k)$,\n",
    "* $T=F(n)$ suma total de frecuencias\n",
    "\n",
    "\n",
    "Intervalo de trabajo: $[0,R)$, $R=2^k$, $R>4T$"
   ]
  },
  {
   "cell_type": "code",
   "execution_count": 127,
   "id": "lonely-comparison",
   "metadata": {
    "execution": {
     "iopub.execute_input": "2021-03-05T08:13:42.570878Z",
     "iopub.status.busy": "2021-03-05T08:13:42.570500Z",
     "iopub.status.idle": "2021-03-05T08:13:42.596027Z",
     "shell.execute_reply": "2021-03-05T08:13:42.595135Z",
     "shell.execute_reply.started": "2021-03-05T08:13:42.570838Z"
    }
   },
   "outputs": [],
   "source": [
    "#Pseudo extraído de \"Introduction to Data Compression\", Autor: Khalid Sayood, Publisher: Morgan Kaufmann, Año: 2012, Paginas: 113-114\n",
    "def IntegerArithmeticCode(mensaje, alfabeto, frecuencias):\n",
    "\tcode = ''\n",
    "\tT = sum(frecuencias) #Total_count\n",
    "\n",
    "\t#suma de frecuencias\n",
    "\tF = [0] + [sum(frecuencias[:i+1]) for i in range(len(frecuencias))] #Cum_count\n",
    "\n",
    "\t#número k necesitado\n",
    "\t#2^k > 4T => k > log_2(4T) => k > 2 + log_2(T)\n",
    "\tm = math.ceil(2 + math.log2(T))\n",
    "\n",
    "\t#ventana inicial\n",
    "\tl = 0\n",
    "\tu = u_start = pow(2,m) - 1\n",
    "\n",
    "\t#número de escalados del tipo 3\n",
    "\tscale3 = 0\n",
    "\n",
    "\ti = 0\n",
    "\twhile i < len(mensaje):\n",
    "\t\t#tomamos simbolo\n",
    "\t\tind = alfabeto.index(mensaje[i])\n",
    "\t\t\n",
    "\t\told_u = u\n",
    "\t\told_l = l\n",
    "\t\t#update u and l\n",
    "\t\tu = l + math.floor(((old_u - old_l + 1)*F[ind + 1])/(T)) - 1\n",
    "\t\tl = l + math.floor(((old_u - old_l + 1)*F[ind])/(T))\n",
    "\n",
    "\t\twhile compare_msb(l,u,m) or e3_condition(l,u,u_start + 1):\n",
    "\t\t\tif compare_msb(l,u,m):\n",
    "\t\t\t\t#send msb\n",
    "\t\t\t\tb = msb(l,m)\n",
    "\t\t\t\tcode += b\n",
    "\t\t\t\t#shift l to the left by 1 bit and shift 0 into LSB\n",
    "\t\t\t\tl = (l << 1) & ~1\n",
    "\t\t\t\t#shift u to the left by 1 bit and shift 1 into LSB\n",
    "\t\t\t\tu = (u << 1) | 1\n",
    "\t\t\t\t#assure values don't go further from 2^m-1\n",
    "\t\t\t\tl = l & u_start\n",
    "\t\t\t\tu = u & u_start\n",
    "\t\t\t\n",
    "\t\t\t\twhile scale3 > 0:\n",
    "\t\t\t\t\t#enviar el complemento\n",
    "\t\t\t\t\tcode += complement_bit(b)\n",
    "\t\t\t\t\tscale3 -= 1\n",
    "\n",
    "\t\t\tif e3_condition(l,u,u_start + 1):\n",
    "\t\t\t\t#shift l to the left by 1 bit and shift 0 into LSB\n",
    "\t\t\t\tl = (l << 1) & ~1\n",
    "\t\t\t\t#shift u to the left by 1 bit and shift 1 into LSB\n",
    "\t\t\t\tu = (u << 1) | 1\n",
    "\t\t\t\t#complement (new) MSB of l and u\n",
    "\t\t\t\tmask = 1 << (m - 1)\n",
    "\t\t\t\tl = l ^ mask\n",
    "\t\t\t\tu = u ^ mask\n",
    "\t\t\t\t#assure values don't go further from 2^m-1\n",
    "\t\t\t\tl = l & u_start\n",
    "\t\t\t\tu = u & u_start\n",
    "\n",
    "\t\t\t\tscale3 += 1\n",
    "\t\ti += 1\n",
    "\n",
    "\t#enviar parte final\t\n",
    "\tif l <= T/4:\n",
    "\t\tcode += \"01\"\n",
    "\t\twhile scale3 > 0:\n",
    "\t\t\tcode += '1'\n",
    "\t\t\tscale3 -= 1\n",
    "\telse:\n",
    "\t\tcode += \"10\"\n",
    "\t\twhile scale3 > 0:\n",
    "\t\t\tcode += '0'\n",
    "\t\t\tscale3 -= 1\n",
    "\n",
    "\t#añade a\n",
    "\tcode += padd_bin(l,m)\n",
    "\t\n",
    "\treturn code\n"
   ]
  },
  {
   "cell_type": "markdown",
   "id": "descending-westminster",
   "metadata": {
    "execution": {
     "iopub.execute_input": "2021-03-05T08:51:17.911851Z",
     "iopub.status.busy": "2021-03-05T08:51:17.911617Z",
     "iopub.status.idle": "2021-03-05T08:51:17.915328Z",
     "shell.execute_reply": "2021-03-05T08:51:17.914572Z",
     "shell.execute_reply.started": "2021-03-05T08:51:17.911829Z"
    }
   },
   "source": [
    "# Ejemplo Encode\n",
    "Atención, el código final no es único.\n",
    "\n",
    "El proceso para finalizar/cerrar el código ha sido:\n",
    "\n",
    "* Bits finales pendientes del rescalado: \n",
    "Una vez leído todo el mensaje y hecho todos los reescalados posibles el intervalo $[m,M)$ no puede estar contenido en $[0,\\frac{R}{2})$, ni en $[\\frac{R}{4}, \\frac{3R}{4})$, ni en $[\\frac{R}{2}, R)$; por lo tanto $[m,M)$ contiene \n",
    "$\\frac{R}{4}$ y $\\frac{R}{2}$, o $\\frac{R}{2}$ y $\\frac{4R}{4}$. Para asegurarnos que enviamos un número del intervalo en un caso enviamos 01.... y en el otro 10..... \n",
    "\n",
    "    \n",
    "* Envío $m$ representado por exactamente $k$ bits.\n"
   ]
  },
  {
   "cell_type": "code",
   "execution_count": 128,
   "id": "hybrid-kelly",
   "metadata": {
    "execution": {
     "iopub.execute_input": "2022-03-04T14:02:51.962001Z",
     "iopub.status.busy": "2022-03-04T14:02:51.961639Z",
     "iopub.status.idle": "2022-03-04T14:02:51.981312Z",
     "shell.execute_reply": "2022-03-04T14:02:51.980840Z",
     "shell.execute_reply.started": "2022-03-04T14:02:51.961964Z"
    },
    "tags": []
   },
   "outputs": [
    {
     "name": "stdout",
     "output_type": "stream",
     "text": [
      "['a', 'b', 'c', 'd']\n",
      "[1, 10, 20, 300]\n",
      "dddcabccacabadac\n",
      "\n",
      "\n",
      "010001110110000000001000000111111000000100010000000000001100000010001111001100001000000 87\n"
     ]
    }
   ],
   "source": [
    "alfabeto=['a','b','c','d']\n",
    "frecuencias=[1,10,20,300]\n",
    "mensaje='dddcabccacabadac'   \n",
    "print(alfabeto)\n",
    "print(frecuencias)\n",
    "print(mensaje)\n",
    "print(\"\\n\")\n",
    "C = IntegerArithmeticCode(mensaje,alfabeto,frecuencias)\n",
    "print(C, len(C))"
   ]
  },
  {
   "cell_type": "markdown",
   "id": "biblical-marine",
   "metadata": {},
   "source": [
    "# Ejemplo IntegerArithmeticDecode\n",
    "\n",
    "**Definir una función** `IntegerArithmeticDecode(codigo, longitud_mensaje, alfabeto, frecuencias)` **que dado un mensaje codificado $codigo$ usando codificación aritmética entera en el intervalo de trabajo $[0,R)$  en el que se ha utilizado el $alfabeto$ con las correspondientes $frecuencias$ devuelva el mensaje original de de longitud $longitud\\_mensaje$.**\n",
    "\n"
   ]
  },
  {
   "cell_type": "code",
   "execution_count": 129,
   "id": "mounted-mileage",
   "metadata": {
    "execution": {
     "iopub.execute_input": "2021-03-05T08:15:43.453795Z",
     "iopub.status.busy": "2021-03-05T08:15:43.453593Z",
     "iopub.status.idle": "2021-03-05T08:15:43.477376Z",
     "shell.execute_reply": "2021-03-05T08:15:43.476870Z",
     "shell.execute_reply.started": "2021-03-05T08:15:43.453774Z"
    }
   },
   "outputs": [],
   "source": [
    "#Pseudo extraído de \"Introduction to Data Compression\", Autor: Khalid Sayood, Publisher: Morgan Kaufmann, Año: 2012, Paginas: 117      \n",
    "def IntegerArithmeticDecode(codigo, longitud_mensaje, alfabeto, frecuencias):\n",
    "\tmensaje = ''\n",
    "\tT = sum(frecuencias) #Total_count\n",
    "\n",
    "\t#suma de frecuencias\n",
    "\tF = [0] + [sum(frecuencias[:i+1]) for i in range(len(frecuencias))] #Cum_count\n",
    "\n",
    "\t#número k necesitado\n",
    "\t#2^k > 4T => k > log_2(4T) => k > 2 + log_2(T)\n",
    "\tm = math.ceil(2 + math.log2(T))\n",
    "\n",
    "\tt_bin = codigo[0:m]\n",
    "\tt = int(t_bin, 2)\n",
    "\n",
    "\t#ventana inicial\n",
    "\tl = 0\n",
    "\tu = u_start = pow(2,m) - 1\n",
    "\n",
    "\t#número de desfase\n",
    "\toffset = 0\n",
    "\t\n",
    "\twhile (len(mensaje) < longitud_mensaje):\n",
    "\n",
    "\t\t#decode symbol x\n",
    "\t\tfreq = math.floor(((t - l + 1) * T - 1) / (u - l + 1))\n",
    "\n",
    "\t\tfor index, freq1 in enumerate(F):\n",
    "\t\t\tif freq < freq1:\n",
    "\t\t\t\tsym = alfabeto[index-1]\n",
    "\t\t\t\tind = index-1\n",
    "\t\t\t\tbreak\n",
    "\n",
    "\t\tmensaje += str(sym)\n",
    "\t\t\t\t\n",
    "\t\told_u = u\n",
    "\t\told_l = l\n",
    "\t\t#update u and l\n",
    "\t\tu = l + math.floor(((old_u - old_l + 1)*F[ind + 1])/(T)) - 1\n",
    "\t\tl = l + math.floor(((old_u - old_l + 1)*F[ind])/(T))\n",
    "\n",
    "\t\twhile compare_msb(l,u,m) or e3_condition(l,u,u_start + 1):\n",
    "\t\t\tif compare_msb(l,u,m):\n",
    "\t\t\t\t#shift l to the left by 1 bit and shift 0 into LSB\n",
    "\t\t\t\tl = (l << 1) & ~1\n",
    "\t\t\t\t#shift u to the left by 1 bit and shift 1 into LSB\n",
    "\t\t\t\tu = (u << 1) | 1\n",
    "\t\t\t\t#shift t to the left by 1 bit and read next bit from received bitstream into LSB\n",
    "\t\t\t\tt = (t << 1) | int(codigo[m+offset])\n",
    "\t\t\t\t#assure values don't go further from 2^m-1\n",
    "\t\t\t\tl = l & u_start\n",
    "\t\t\t\tu = u & u_start\n",
    "\t\t\t\tt = int(t & u_start)\n",
    "\n",
    "\t\t\t\toffset += 1\n",
    "\n",
    "\t\t\tif e3_condition(l,u,u_start + 1):\n",
    "\t\t\t\t#shift l to the left by 1 bit and shift 0 into LSB\n",
    "\t\t\t\tl = (l << 1) & ~1\n",
    "\t\t\t\t#shift u to the left by 1 bit and shift 1 into LSB\n",
    "\t\t\t\tu = (u << 1) | 1\n",
    "\t\t\t\t#shift t to the left by 1 bit and read next bit from received bitstream into LSB\n",
    "\t\t\t\tt = (t << 1) | int(codigo[m+offset])\n",
    "\n",
    "\t\t\t\t#complement (new) MSB of t, l and u\n",
    "\t\t\t\tmask = 1 << (m - 1)\n",
    "\t\t\t\tt = t ^ mask\n",
    "\t\t\t\tl = l ^ mask\n",
    "\t\t\t\tu = u ^ mask\n",
    "\t\t\t\t#assure values don't go further from 2^m-1\n",
    "\t\t\t\tl = l & u_start\n",
    "\t\t\t\tu = u & u_start\n",
    "\t\t\t\tt = int(t & u_start)\n",
    "\n",
    "\t\t\t\toffset += 1\n",
    "\t\t\n",
    "\treturn mensaje[:longitud_mensaje]"
   ]
  },
  {
   "cell_type": "markdown",
   "id": "decent-essence",
   "metadata": {},
   "source": [
    "# Ejemplo Decode"
   ]
  },
  {
   "cell_type": "code",
   "execution_count": 130,
   "id": "persistent-address",
   "metadata": {
    "execution": {
     "iopub.execute_input": "2021-03-19T08:49:27.664986Z",
     "iopub.status.busy": "2021-03-19T08:49:27.664535Z",
     "iopub.status.idle": "2021-03-19T08:49:27.703737Z",
     "shell.execute_reply": "2021-03-19T08:49:27.691562Z",
     "shell.execute_reply.started": "2021-03-19T08:49:27.664939Z"
    }
   },
   "outputs": [
    {
     "name": "stdout",
     "output_type": "stream",
     "text": [
      "['a', 'b', 'c', 'd']\n",
      "[1, 10, 20, 300]\n",
      "Tamaño del mensaje: 16\n",
      "010001110110000000001000000111111000000100010000000000001100000010001111001100001000000 87 16\n"
     ]
    }
   ],
   "source": [
    "alfabeto=['a','b','c','d']\n",
    "frecuencias=[1,10,20,300]\n",
    "mensaje='dddcabccacabadac'   \n",
    "   \n",
    "print(alfabeto)\n",
    "print(frecuencias)\n",
    "print('Tamaño del mensaje:',len(mensaje))\n",
    "C = IntegerArithmeticCode(mensaje,alfabeto,frecuencias)\n",
    "print(C, len(C),len(mensaje))"
   ]
  },
  {
   "cell_type": "code",
   "execution_count": 131,
   "id": "3439a2cc",
   "metadata": {},
   "outputs": [
    {
     "name": "stdout",
     "output_type": "stream",
     "text": [
      "mensaje: dddcabccacabadac\n",
      "True\n"
     ]
    }
   ],
   "source": [
    "mensaje_recuperado=IntegerArithmeticDecode(C,len(mensaje),alfabeto,frecuencias)\n",
    "print(\"mensaje: \" + mensaje_recuperado)\n",
    "print(mensaje==mensaje_recuperado)"
   ]
  },
  {
   "cell_type": "code",
   "execution_count": 132,
   "id": "75203d5a",
   "metadata": {},
   "outputs": [
    {
     "name": "stdout",
     "output_type": "stream",
     "text": [
      "The Island of Doctor Moreau, by H. G. Wells. [...] I put down the mouthful that hesitated upon my lips, and listened. Silence, save for the whisper of the morning breeze. I began to think my ears had deceived me. After a long pause I resumed my meal, but with my ears still vigilant. Presently I heard something else, very faint and low. I sat as if frozen in my attitude. Though it was faint and low, it moved me more profoundly than all that I had hitherto heard of the abominations behind the wall. There was no mistake this time in the quality of the dim, broken sounds; no doubt at all of their source. For it was groaning, broken by sobs and gasps of anguish.\n"
     ]
    }
   ],
   "source": [
    "alfabeto=[' ', ',', '.', ';', 'A', 'D', 'F', 'G', 'H', 'I', 'M', 'P', 'S', 'T', 'W', '[', ']', 'a', 'b', 'c', 'd', 'e', 'f', 'g', 'h', 'i', 'k', 'l', 'm', 'n', 'o', 'p', 'q', 'r', 's', 't', 'u', 'v', 'w', 'y', 'z']\n",
    "frecuencias=[126, 8, 15, 1, 1, 1, 1, 1, 1, 7, 1, 1, 1, 3, 1, 1, 1, 41, 11, 4, 22, 56, 14, 10, 30, 34, 4, 24, 18, 35, 38, 7, 1, 25, 31, 46, 16, 5, 9, 11, 2]\n",
    "C='01000000000100110100101011010010000100000011100001110111110100000000111011110110101110000001010100000001011110000100001011011100111100011011110001100001001000110101100111100111111111001111000110010101101001001010101010001100111110101101001011111011010101000100101101011111011111010000001000111110110101111100010011001001110111011000010100110001100001011100011011101001000010010000110010101011001011101001111010111010111010110111101011000100000101001011100101101000111001100011010111100111101101110011110011100011011110111100010101101101011011000101101011101101101000011011000001101110011101001010001000001110111001000011110111100110001101111010000101110110010001011111110000100010010101100000111001101010110001001100100111100100000110101100110110000101110011010110010110010000101101011110011101000010111110110001001000101111110110011111000101101000110101111110010011111100101101100101110011100010001101010111111000011011001000000100111011010111111100100001011010100110011000110011001100111011100110101101001100101111011011100100101010000001100110111101011100001100011010111110101011111101011101010001010111000010010001001000100100011100111010001010101010111110010000010111011111001100011011010011011010010010100110110001101001000001010110111101100101100110011000110001001101100001100011010001001101010100001101011010101001110000000011111101100010110110010010110101111110100100011010010101000111111001010110111011100000110010010100010011000110110001100100111000011100010011011100100001010110010110100001111110011101000001010010011010010111110001101010110110110110010001110010010100110111010101111001110010011010100001011000001011111110001011010110101010111101101001001011100111010011110101100101110001000100110100000010011111100110010100011110010001001010010101000100000101010110111010100111110010100100001000001110101010100100101111011111010100000011011001111010111110001001111100101101001100010010011010011101011100000010101101010001100000100101001101011010101110011111110110000101110111011001100011101111100001011010101101001001100000100101011000010101100100100001000110000111100110011000000100011001011100011100110110000100111110110010001111011111100011101011101111111101001001011101110010001000011101100110111101011000100101001001101001001111100010011000011100001100100011000100000010000010100011011000010010000010000001010100111011011111111110011100010011111001010001101111100001101001111010001000111101010011111100011011110110101001011100100000001000101010011101000101011000001101000100010010101010100100110010111101011110011101001101110100011111001110010011111100100001011000000111010001111010100010010101110110101110101000111100100001100011000001111011011011010101010101111010111001011111010100010010001111010001111011100010110001001101110100000110100101001000111010000111110010110100010110111011100101111100001010110001110011101101101011111110101010000000000101101001011110001011011111000101000000'   \n",
    "longitud = 665\n",
    "mensaje_recuperado=IntegerArithmeticDecode(C,longitud,alfabeto,frecuencias)\n",
    "print(mensaje_recuperado)"
   ]
  },
  {
   "cell_type": "code",
   "execution_count": 133,
   "id": "9685d09a",
   "metadata": {},
   "outputs": [
    {
     "name": "stdout",
     "output_type": "stream",
     "text": [
      "The Time Machine, H(erbert) G(eorge) Wells [1898] [...] There are balloons. But before the balloons, save for spasmodic jumping and the inequalities of the surface, man had no freedom of vertical movement. Still they could move a little up and down, said the Medical Man. Easier, far easier down than up. And you cannot move at all in Time, you cannot get away from the present moment.\n"
     ]
    }
   ],
   "source": [
    "alfabeto=[' ', '(', ')', ',', '.', '1', '8', '9', 'A', 'B', 'E', 'G', 'H', 'M', 'S', 'T', 'W', '[', ']', 'a', 'b', 'c', 'd', 'e', 'f', 'g', 'h', 'i', 'j', 'l', 'm', 'n', 'o', 'p', 'q', 'r', 's', 't', 'u', 'v', 'w', 'y']\n",
    "frecuencias=[66, 2, 2, 6, 8, 1, 2, 1, 1, 1, 1, 1, 1, 3, 1, 4, 1, 2, 2, 27, 4, 8, 11, 40, 8, 3, 11, 16, 1, 16, 13, 22, 24, 5, 1, 15, 12, 21, 9, 5, 3, 4]\n",
    "C='010000011110001010101111011011100110011001011101101001101100111110101000010111100011011000111011000101110100111010101110101000001100000010100101110110001011011111010111110110011101010010001010001101001100110010001110010111101111110101010011001111010101010010100001110100011100111110101011111010110100111011001010110010001000110101010101111110111111001010100100011101011100111100010010101101011011101011101000001110111010110110001001110100001010010100101000110111111101011011111011111000010001001100010110111100001000111110011001101110010100011110001001011001010101101001011000101011000011101100001001101000000101100000010101010101010011011110001110100001101110101011111111111011011101111110010100011011101100011010100101100100001000101110110110010100110011010010100000110000011000101100101001110000100110001111010101110101101110101001111111100111010011111000100011001110010110001100110100010111000000101000011001001111011101101111011000100110001000001101110101110001001101111110011010001000111001100001111101001101010101010100110111110010100010000001000110101011000001010011111111110110101010100110011110001101000101000000010110010011011110111011011011010110111110011000100010010100100110000111110000110011101011011110010000011101001010100100001010000000100101110101010100111110101011001010011001100000111110101001010010100110010111100110100101010110110111100010111001100111111100101100010110111010100000110011101011010110000101101100010010000110001011001111101011111001111100111111101000100101111011000101110100101101001000101000111001011100000111101010111111110110111010111101111001000110000111110110011000011110000110000110100001100100011001001101011001011110000000111011011110100011101111111010001010111110110110110011100001010000000'   \n",
    "longitud = 385\n",
    "mensaje_recuperado=IntegerArithmeticDecode(C,longitud,alfabeto,frecuencias)\n",
    "print(mensaje_recuperado)"
   ]
  },
  {
   "cell_type": "code",
   "execution_count": 134,
   "id": "4ee7a6b3",
   "metadata": {},
   "outputs": [
    {
     "name": "stdout",
     "output_type": "stream",
     "text": [
      "0011110010011110101010100001000100100010110101110110101011101101111011001101100100111111011100101110011010000111001001001110000011011110101001110000101000111110010110010110100100001100101101010111110011010110001101101101111100100101100111001101110100111001100101001111100100110000001001101110010111100001011110110100011100000000111011010111101011001111000001000011111000110100000111110111000010110110001100011111001100001111111011110010010010111011010001001010100110000110010110110000000111100001111010111101101001011010011100001001101111011000011010110001111110100010001101101111000001001000110011011100101011010001101110000000100100011011011111000100001101111100011001010001010111001010100001000101011101100110011011111000000000000000000100101001000110001101111110100011010101100011101101011101001010011001110010100111111100100100110010011100100110000111011001101111001111101101001100011010100010000101011000011101111100101000101110001101101111100000001011010010011100111111101100101001000010001011\n",
      "True\n"
     ]
    }
   ],
   "source": [
    "alfabeto = [' ', ',', '.', ';', 'D', 'G', 'H', 'I', 'M', 'T', 'W', '[', ']', 'a', 'b', 'c', 'd', 'e', 'f', 'g', 'h', 'i', 'k', 'l', 'm', 'n', 'o', 'p', 'r', 's', 't', 'u', 'v', 'w', 'x', 'y']\n",
    "frecuencias = [77, 7, 8, 1, 1, 1, 1, 3, 1, 1, 1, 1, 1, 22, 4, 6, 13, 35, 10, 7, 19, 24, 1, 20, 7, 16, 24, 11, 19, 16, 34, 12, 3, 8, 1, 8]\n",
    "mensaje = \"The Island of Doctor Moreau, by H. G. Wells. [...] I could not bring myself to approach that black heap. I left it there, with the water rippling round it, under the still stars, and giving it a wide berth pursued my way towards the yellow glow of the house; and presently, with a positive effect of relief, came the pitiful moaning of the puma, the sound that had originally driven me out to explore this mysterious island.\"\n",
    "longitud = 424\n",
    "code=IntegerArithmeticCode(mensaje,alfabeto,frecuencias)\n",
    "#print(code)\n",
    "print(code[:1000])\n",
    "mensaje_recuperado=IntegerArithmeticDecode(code,longitud,alfabeto,frecuencias)\n",
    "print(mensaje_recuperado==mensaje)"
   ]
  },
  {
   "cell_type": "code",
   "execution_count": 135,
   "id": "254b0c45",
   "metadata": {},
   "outputs": [
    {
     "name": "stdout",
     "output_type": "stream",
     "text": [
      "0100011000001001100010001000110100011011010001011000001110010100101111100111100100010001111100110101111111100110110010101100101001101010000111001110100111110010011011000011000111101000101000010110011110000110101000110000010000111111011100000111111000111001001110110101110010000000000101001101011011001010010111111101111100100011101001001001100011001010110001100001000011000010010111111111001110101000101100010101000010111011110011111101100010111011010000101010011001110101010100111011110110101011000000011111010100101000010101101001000100101011000010000110110001110111110000110110111100101010111000010010010011010111010011011100110111011000100011101001011010000101110001010111100111100010111000100001110100011001011110111010110001111101101001110110001001111001001001000011010110001100001111111101101110110100111000101001001000111010011110001111111110111111110111100100001100010111110000010011100010011011111101001101101011011100011001001110101110011100101010101001100010110000100011001100110111000001010100000011001010101011000101001011110111101111010110110111110101010010010100111110100100011010010011001011110010001111100101101111001010001110110101001110110011100001111011101011011010101010010010100010011011001110011100000001111110000101111110000110000101111111011101101111111101000000110010010011111011001001011110000001011011001111111111000011010100100101010000010111110011111010000001111001000110001001111010101101000110111001011010111011101111110011101100110110010110100000111111100000111101001100100000111010110010010000111101000001101100001010100011011111101110101101010111101000110011011100000111110101010100101000100101011010010100110101101101010101101001011000011011110100010101101010101100001100000101001000001010110001010011011101101011001100000110111101001100111000100011000100011100010111101110000110010011110011000111000010111010011010110000111111100101110110101111110100110010111010101111111100111011101111000100001011101011111010101101110111101010001111011111100001001000111001010100110010100000011110010010011100011001001101001101000011110011100111110111100100101011111010000101011101000111110010100111011110000101111000100001100111010111101010110101110000100011101011011010001101010101101010011000111100101011000111010000111110101001010110011110101100110100111010100100100010011111011110001001011001100001001010001011101000100100011001010111010010000101100110111010001111000110110101010101111001011000001111011101101001101010001011111011000101010011010011011010101100101000110100001100110110111110001100111110100011100010100110110000100000000\n",
      "0100011000001001100010001000110100011011010001011000001110010100101111100111100100010001111100110101111111100110110010101100101001101010000111001110100111110010011011000011000111101000101000010110011110000110101000110000010000111111011100000111111000111001001110110101110010000000000101001101011011001010010111111101111100100011101001001001100011001010110001100001000011000010010111111111001110101000101100010101000010111011110011111101100010111011010000101010011001110101010100111011110110101011000000011111010100101000010101101001000100101011000010000110110001110111110000110110111100101010111000010010010011010111010011011100110111011000100011101001011010000101110001010111100111100010111000100001110100011001011110111010110001111101101001110110001001111001001001000011010110001100001111111101101110110100111000101001001000111010011110001111111110111111110111100100001100010111110000010011100010011011111101001101101011011100011001001110101110011100101010101001100010110000100011001100110111000001\n",
      "True\n"
     ]
    }
   ],
   "source": [
    "alfabeto = [' ', '!', \"'\", ',', '-', '.', ';', '?', 'B', 'D', 'G', 'H', 'I', 'M', 'O', 'S', 'T', 'W', '[', ']', 'a', 'b', 'c', 'd', 'e', 'f', 'g', 'h', 'i', 'j', 'k', 'l', 'm', 'n', 'o', 'p', 'q', 'r', 's', 't', 'u', 'v', 'w', 'x', 'y']\n",
    "frecuencias = [96, 5, 2, 7, 9, 12, 1, 1, 2, 1, 1, 1, 5, 5, 1, 3, 5, 3, 1, 1, 40, 4, 9, 19, 45, 3, 6, 27, 17, 1, 1, 13, 9, 24, 35, 12, 1, 25, 29, 43, 18, 3, 9, 1, 9]\n",
    "mensaje = \"The Island of Doctor Moreau, by H. G. Wells. [...] That way, Mister Blasted Shut-up! that way! roared the captain. Montgomery and his companion turned as he spoke. What do you mean? I said. That way, Mister Blasted Shut-up,--that's what I mean! Overboard, Mister Shut-up,--and sharp! We're cleaning the ship out,--cleaning the whole blessed ship out; and overboard you go! I stared at him dumfounded. Then it occurred to me that it was exactly the thing I wanted. The lost prospect of a journey as sole passenger with this quarrelsome sot was not one to mourn over.\"\n",
    "longitud = 565\n",
    "code=IntegerArithmeticCode(mensaje,alfabeto,frecuencias)\n",
    "print(code)\n",
    "print(code[:1000])\n",
    "mensaje_recuperado=IntegerArithmeticDecode(code,longitud,alfabeto,frecuencias)\n",
    "print(mensaje_recuperado==mensaje)"
   ]
  }
 ],
 "metadata": {
  "kernelspec": {
   "display_name": "Python 3 (ipykernel)",
   "language": "python",
   "name": "python3"
  },
  "language_info": {
   "codemirror_mode": {
    "name": "ipython",
    "version": 3
   },
   "file_extension": ".py",
   "mimetype": "text/x-python",
   "name": "python",
   "nbconvert_exporter": "python",
   "pygments_lexer": "ipython3",
   "version": "3.12.0"
  }
 },
 "nbformat": 4,
 "nbformat_minor": 5
}
