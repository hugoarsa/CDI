{
 "cells": [
  {
   "cell_type": "markdown",
   "id": "conscious-shield",
   "metadata": {},
   "source": [
    "# Códigos"
   ]
  },
  {
   "cell_type": "markdown",
   "id": "burning-sudan",
   "metadata": {},
   "source": [
    "\n",
    "**Dada una codificación $R$, construimos un diccionario para codificar $m2c$ y otro para decodificar $c2m$.**\n"
   ]
  },
  {
   "cell_type": "code",
   "execution_count": 1,
   "id": "charming-warren",
   "metadata": {
    "execution": {
     "iopub.execute_input": "2021-02-26T09:24:19.277493Z",
     "iopub.status.busy": "2021-02-26T09:24:19.277027Z",
     "iopub.status.idle": "2021-02-26T09:24:19.282652Z",
     "shell.execute_reply": "2021-02-26T09:24:19.282021Z",
     "shell.execute_reply.started": "2021-02-26T09:24:19.277440Z"
    }
   },
   "outputs": [
    {
     "name": "stdout",
     "output_type": "stream",
     "text": [
      "{'a': '0', 'b': '11', 'c': '100', 'd': '1010', 'e': '1011'}\n",
      "{'0': 'a', '11': 'b', '100': 'c', '1010': 'd', '1011': 'e'}\n"
     ]
    }
   ],
   "source": [
    "R = [('a','0'), ('b','11'), ('c','100'), ('d','1010'), ('e','1011')]\n",
    "\n",
    "#R = [('ab','0'), ('cb','11'), ('cc','100'), ('da','1010'), ('ae','1011')]\n",
    "\n",
    "\n",
    "# encoding dictionary\n",
    "m2c = dict(R)\n",
    "\n",
    "# decoding dictionary\n",
    "c2m = dict([(c,m) for m, c in m2c.items()])\n",
    "\n",
    "print(m2c)\n",
    "\n",
    "print(c2m)\n"
   ]
  },
  {
   "cell_type": "markdown",
   "id": "opposite-economy",
   "metadata": {},
   "source": [
    "\n",
    "**Definir una función** `Encode(M, m2c)` **que, dado un mensaje $M$ y un diccionario \n",
    "de codificación $m2c$, devuelva el mensaje codificado $C$.**\n"
   ]
  },
  {
   "cell_type": "code",
   "execution_count": 36,
   "id": "corrected-speaker",
   "metadata": {},
   "outputs": [],
   "source": [
    "def Encode(M, m2c):\n",
    "    C = applyDict(M, m2c)\n",
    "    return C\n",
    "\n",
    "#esta funcion es consistente en encode y decode si ningún código es prefijo de otro\n",
    "def applyDict(A,dict):\n",
    "    B = \"\"\n",
    "    i = 0\n",
    "    #aquí mantenemos el prefijo que tratamos de sustituir\n",
    "    prefix = \"\"\n",
    "    \n",
    "    while i<len(A):\n",
    "        prefix += A[i]\n",
    "        #print(prefix)\n",
    "        if prefix in dict:\n",
    "            B += dict[prefix]\n",
    "            #vacíamos el prefijo pues ya hemos cambiado el target\n",
    "            prefix = \"\"\n",
    "        i += 1\n",
    "\n",
    "    #si llegados a este punto el prefijo no se ha vaciado no se ha podido procesar todo el texto\n",
    "    if prefix != \"\":\n",
    "        print(\"-----------------------------------\")\n",
    "        print(\"Código no prefijo o se ha encontrado palabra que no es del código: \" + prefix)\n",
    "        print(\"-----------------------------------\")\n",
    "        return None\n",
    "\n",
    "    return B"
   ]
  },
  {
   "cell_type": "markdown",
   "id": "continent-conditions",
   "metadata": {
    "execution": {
     "iopub.execute_input": "2021-02-18T13:45:36.117604Z",
     "iopub.status.busy": "2021-02-18T13:45:36.117372Z",
     "iopub.status.idle": "2021-02-18T13:45:36.121217Z",
     "shell.execute_reply": "2021-02-18T13:45:36.120671Z",
     "shell.execute_reply.started": "2021-02-18T13:45:36.117582Z"
    }
   },
   "source": [
    "**Definir una función** `Decode(C, m2c)` **que, dado un mensaje codificado $C$ y un diccionario \n",
    "de decodificación $c2m$, devuelva el mensaje original.**"
   ]
  },
  {
   "cell_type": "code",
   "execution_count": 24,
   "id": "through-treasure",
   "metadata": {},
   "outputs": [],
   "source": [
    "def Decode(C,c2m):\n",
    "    M = applyDict(C,c2m)\n",
    "    return M"
   ]
  },
  {
   "cell_type": "code",
   "execution_count": 38,
   "id": "imposed-andrew",
   "metadata": {
    "execution": {
     "iopub.execute_input": "2021-02-18T15:38:21.548721Z",
     "iopub.status.busy": "2021-02-18T15:38:21.548602Z",
     "iopub.status.idle": "2021-02-18T15:38:21.552923Z",
     "shell.execute_reply": "2021-02-18T15:38:21.552369Z",
     "shell.execute_reply.started": "2021-02-18T15:38:21.548707Z"
    }
   },
   "outputs": [
    {
     "name": "stdout",
     "output_type": "stream",
     "text": [
      "aabacddeae\n",
      "{'a': '0', 'b': '11', 'c': '100', 'd': '1010', 'e': '1011'}\n",
      "0011010010101010101101011\n",
      "{'0': 'a', '11': 'b', '100': 'c', '1010': 'd', '1011': 'e'}\n",
      "True\n",
      "True\n"
     ]
    }
   ],
   "source": [
    "R = [('a','0'), ('b','11'), ('c','100'), ('d','1010'), ('e','1011')]\n",
    "\n",
    "# encoding dictionary\n",
    "m2c = dict(R)\n",
    "\n",
    "# decoding dictionary\n",
    "c2m = dict([(c,m) for m, c in R])\n",
    "\n",
    "M='aabacddeae'\n",
    "C=Encode(M,m2c)\n",
    "print(M)\n",
    "print(m2c)\n",
    "print(C)\n",
    "print(c2m)\n",
    "print(Decode(C,c2m)==M)\n",
    "print(Encode(M,m2c)=='0011010010101010101101011')"
   ]
  },
  {
   "cell_type": "code",
   "execution_count": 39,
   "id": "attended-teens",
   "metadata": {
    "execution": {
     "iopub.execute_input": "2021-02-18T15:38:21.553519Z",
     "iopub.status.busy": "2021-02-18T15:38:21.553410Z",
     "iopub.status.idle": "2021-02-18T15:38:21.558398Z",
     "shell.execute_reply": "2021-02-18T15:38:21.557648Z",
     "shell.execute_reply.started": "2021-02-18T15:38:21.553505Z"
    }
   },
   "outputs": [
    {
     "name": "stdout",
     "output_type": "stream",
     "text": [
      "aabacddeaeabc\n",
      "{'a': '0', 'b': '10', 'c': '110', 'd': '1110', 'e': '1111'}\n",
      "0010011011101110111101111010110\n",
      "{'0': 'a', '10': 'b', '110': 'c', '1110': 'd', '1111': 'e'}\n",
      "True\n",
      "True\n"
     ]
    }
   ],
   "source": [
    "R = [('a','0'), ('b','10'), ('c','110'), ('d','1110'), ('e','1111')]\n",
    "\n",
    "# encoding dictionary\n",
    "m2c = dict(R)\n",
    "\n",
    "# decoding dictionary\n",
    "c2m = dict([(c,m) for m, c in R])\n",
    "\n",
    "M='aabacddeaeabc'\n",
    "C=Encode(M,m2c)\n",
    "print(M)\n",
    "print(m2c)\n",
    "print(C)\n",
    "print(c2m)\n",
    "print(Decode(C,c2m)==M)\n",
    "print(Encode(M,m2c)=='0010011011101110111101111010110')"
   ]
  },
  {
   "cell_type": "code",
   "execution_count": 40,
   "id": "standard-happening",
   "metadata": {
    "execution": {
     "iopub.execute_input": "2021-02-18T15:38:21.559034Z",
     "iopub.status.busy": "2021-02-18T15:38:21.558923Z",
     "iopub.status.idle": "2021-02-18T15:38:21.563775Z",
     "shell.execute_reply": "2021-02-18T15:38:21.563172Z",
     "shell.execute_reply.started": "2021-02-18T15:38:21.559021Z"
    }
   },
   "outputs": [
    {
     "name": "stdout",
     "output_type": "stream",
     "text": [
      "ababcbccdaae\n",
      "{'ab': '0', 'cb': '11', 'cc': '100', 'da': '1010', 'ae': '1011'}\n",
      "001110010101011\n",
      "{'0': 'ab', '11': 'cb', '100': 'cc', '1010': 'da', '1011': 'ae'}\n",
      "True\n",
      "True\n"
     ]
    }
   ],
   "source": [
    "R = [('ab','0'), ('cb','11'), ('cc','100'), ('da','1010'), ('ae','1011')]\n",
    "\n",
    "# encoding dictionary\n",
    "m2c = dict(R)\n",
    "\n",
    "# decoding dictionary\n",
    "c2m = dict([(c,m) for m, c in m2c.items()])\n",
    "M='ababcbccdaae'\n",
    "C=Encode(M,m2c)\n",
    "print(M)\n",
    "print(m2c)\n",
    "print(C)\n",
    "print(c2m)\n",
    "print(Decode(C,c2m)==M)\n",
    "print(Encode(M,m2c)=='001110010101011')"
   ]
  },
  {
   "cell_type": "code",
   "execution_count": 41,
   "id": "excess-canadian",
   "metadata": {
    "execution": {
     "iopub.execute_input": "2021-02-18T15:38:21.564286Z",
     "iopub.status.busy": "2021-02-18T15:38:21.564177Z",
     "iopub.status.idle": "2021-02-18T15:38:21.569962Z",
     "shell.execute_reply": "2021-02-18T15:38:21.569312Z",
     "shell.execute_reply.started": "2021-02-18T15:38:21.564272Z"
    }
   },
   "outputs": [
    {
     "name": "stdout",
     "output_type": "stream",
     "text": [
      "ae ae True\n",
      "-----------------------------------\n",
      "Código no prefijo o se ha encontrado palabra que no es del código: 1\n",
      "-----------------------------------\n",
      "be None False\n"
     ]
    }
   ],
   "source": [
    "#------------------------------------------------------------------------\n",
    "# Ejemplo 3 (no prefijo)\n",
    "#------------------------------------------------------------------------\n",
    "R = [('a','0'), ('b','01'), ('c','011'), ('d','0111'), ('e','1111')]\n",
    "\n",
    "# encoding dictionary\n",
    "m2c = dict(R)\n",
    "\n",
    "# decoding dictionary\n",
    "c2m = dict([(c,m) for m, c in R])\n",
    "\n",
    "''' \n",
    "6. Codificar y decodificar los mensajes  'ae' y 'be'. \n",
    "Comprobar si los mensajes decodificados coinciden con los originales.\n",
    "'''\n",
    "\n",
    "\n",
    "\n",
    "M='ae'\n",
    "C=Encode(M,m2c)\n",
    "Mr=Decode(C,c2m)\n",
    "print(M,Mr,M==Mr)\n",
    "\n",
    "M='be'\n",
    "C=Encode(M,m2c)\n",
    "Mr=Decode(C,c2m)\n",
    "print(M,Mr,M==Mr)\n",
    "\n"
   ]
  },
  {
   "cell_type": "markdown",
   "id": "subsequent-purple",
   "metadata": {},
   "source": [
    "# Códigos canónicos\n",
    "\n",
    "\n",
    "RFC 1951, sección 3.2.2: https://tools.ietf.org/html/rfc1951#page-7\n",
    "\n"
   ]
  },
  {
   "cell_type": "markdown",
   "id": "egyptian-tomato",
   "metadata": {},
   "source": [
    "\n",
    "**Definir una función** `CodeCanonico(L)` **que, dada una lista de longitudes $L$ y devuelva un código canónico binario cuyas palabras tengan las longitudes de la lista $L$.**"
   ]
  },
  {
   "cell_type": "code",
   "execution_count": 73,
   "id": "applied-beads",
   "metadata": {
    "execution": {
     "iopub.execute_input": "2021-02-18T15:38:37.620382Z",
     "iopub.status.busy": "2021-02-18T15:38:37.620247Z",
     "iopub.status.idle": "2021-02-18T15:38:37.626675Z",
     "shell.execute_reply": "2021-02-18T15:38:37.626074Z",
     "shell.execute_reply.started": "2021-02-18T15:38:37.620364Z"
    }
   },
   "outputs": [],
   "source": [
    "\n",
    "#código obtenido a partir de el pseudocódigo descrito en el apartado 3.2.2\n",
    "#encontrado en: https://datatracker.ietf.org/doc/html/rfc1951#page-7\n",
    "def CodeCanonico(L):\n",
    "    #1) Count the number of codes for each code length\n",
    "    bl_count = [0] * (max(L) + 1)\n",
    "    for length in L:\n",
    "        bl_count[length] += 1\n",
    "\n",
    "    #for i in range(0,len(bl_count)):\n",
    "    #    print(\"The value of position \"+ str(i) + \" is \" + str(bl_count[i]))\n",
    "    \n",
    "    #2) Find the numerical value of the smallest code for each code length\n",
    "    next_code = [0] * (max(L) + 1)\n",
    "    code = 0\n",
    "    for bits in range(1, max(L) + 1):\n",
    "        code = (code + bl_count[bits - 1]) << 1\n",
    "        next_code[bits] = code\n",
    "\n",
    "    #for i in range(0,len(next_code)):\n",
    "    #    print(\"The value of position \"+ str(i) + \" is \" + str(next_code[i]))\n",
    "    \n",
    "    #3) Assign numerical values to all codes\n",
    "    code_canonical = []\n",
    "    for length in L:\n",
    "        if length != 0:\n",
    "            #excluimos los primeros 2 elementos pues son \"0b\"\n",
    "            bin_num = bin(next_code[length])[2:]\n",
    "            #se debe rellenar con zeros pues sino se truncan y los necesitamos\n",
    "            #pues realmente queremos codificar y que tengan la longitud adecuada\n",
    "            code_canonical.append(bin_num.zfill(length))\n",
    "            next_code[length] += 1\n",
    "\n",
    "    \n",
    "    return code_canonical"
   ]
  },
  {
   "cell_type": "code",
   "execution_count": 74,
   "id": "coordinated-chamber",
   "metadata": {
    "execution": {
     "iopub.execute_input": "2021-02-26T09:54:48.665921Z",
     "iopub.status.busy": "2021-02-26T09:54:48.665537Z",
     "iopub.status.idle": "2021-02-26T09:54:48.672560Z",
     "shell.execute_reply": "2021-02-26T09:54:48.671386Z",
     "shell.execute_reply.started": "2021-02-26T09:54:48.665879Z"
    }
   },
   "outputs": [
    {
     "name": "stdout",
     "output_type": "stream",
     "text": [
      "[3, 3, 3, 3, 2, 4, 7, 7, 7, 5, 5, 5, 4]\n",
      "['010', '011', '100', '101', '00', '1100', '1111100', '1111101', '1111110', '11100', '11101', '11110', '1101']\n"
     ]
    }
   ],
   "source": [
    "L=[ 3, 3, 3, 3, 2, 4, 7,7,7,5,5,5,4]\n",
    "\n",
    "print(L)\n",
    "print(CodeCanonico(L))"
   ]
  },
  {
   "cell_type": "code",
   "execution_count": 75,
   "id": "fewer-reverse",
   "metadata": {
    "execution": {
     "iopub.execute_input": "2021-02-18T15:38:37.633584Z",
     "iopub.status.busy": "2021-02-18T15:38:37.633317Z",
     "iopub.status.idle": "2021-02-18T15:38:37.637564Z",
     "shell.execute_reply": "2021-02-18T15:38:37.636824Z",
     "shell.execute_reply.started": "2021-02-18T15:38:37.633565Z"
    }
   },
   "outputs": [
    {
     "name": "stdout",
     "output_type": "stream",
     "text": [
      "[7, 2, 3, 3, 3, 3, 26, 4, 4, 4, 600]\n",
      "['1111000', '00', '010', '011', '100', '101', '11110010000000000000000000', '1100', '1101', '1110', '111100100000000000000000010000000000000000000000000000000000000000000000000000000000000000000000000000000000000000000000000000000000000000000000000000000000000000000000000000000000000000000000000000000000000000000000000000000000000000000000000000000000000000000000000000000000000000000000000000000000000000000000000000000000000000000000000000000000000000000000000000000000000000000000000000000000000000000000000000000000000000000000000000000000000000000000000000000000000000000000000000000000000000000000000000000000000000000000000000000000000000000000000000000000000000000000000000000000000000000000']\n"
     ]
    }
   ],
   "source": [
    "L=[7,2,3,3,3,3,26,4,4,4,600]\n",
    "\n",
    "print(L)\n",
    "print(CodeCanonico(L))"
   ]
  },
  {
   "cell_type": "markdown",
   "id": "indie-proportion",
   "metadata": {},
   "source": [
    "# Ejercicio final"
   ]
  },
  {
   "cell_type": "code",
   "execution_count": 92,
   "id": "received-economy",
   "metadata": {
    "execution": {
     "iopub.execute_input": "2021-02-18T15:50:40.848586Z",
     "iopub.status.busy": "2021-02-18T15:50:40.847694Z",
     "iopub.status.idle": "2021-02-18T15:50:40.855598Z",
     "shell.execute_reply": "2021-02-18T15:50:40.854468Z",
     "shell.execute_reply.started": "2021-02-18T15:50:40.848511Z"
    }
   },
   "outputs": [
    {
     "name": "stdout",
     "output_type": "stream",
     "text": [
      "111110011011000100011111000100011000010001011010100001101111000000111111001011010100100101100111000111011001100111001010011010110110000111011111110100001111011111011100011111101011011100011111101100111000110001000000111111100110111110111110111111111101000111101110010001110100100100000010101011100110001000001101010001100010111111001001000111011001100101100111100001101100100101111111010000010001011010100010110101111000000111010101101011110010011111110001011001001011101110011010100010100011011001111100101000101101110110010111011000010111010100011111010010010100111001001100100001000101101010001001011101101101010000010111100000001101111000000111011111000110100010001000001011111100000111011100011110110100000011101000100010100010011001001000100010011011111000110000000101001010001110010111110110000100110110101111000000101110101101011011111111011101111010111010010011000000111011100111100001000101000100101100000111110100101000100101100000100010110101000111100001110110000011001010001001101100010001110111001010010100101101101100001100101001110011011101011110000001001101100010001100101101000100100011100001110110100100110001111111101101000100011001011011111011001110010010101100110001101110001111011010010000100000111010011001111010100001101111000000101000110110011100101000101101010001111000011101101100100011101100110010110011110000110110010010111111101011011000010011011000100011110000110110100111000110010010101000101110101000100110110001000110000100110100101101001011000010001111001011101000101111000000110101111001110110000010001011010100011101010111100110110000100010111010111100011010110000100011111000111101000001001110101110011110100100011110101000111000001100010011101001110011000000100010010111110101010011100100010011011000100011000110101110001000110111000111011001100101100111100001101100100101111111010000100010010010010111001101010001101010000000111011011010010110101000010001011010100010111010110010110000010000001010100011101110110111010000110001011110011001110000010001010101101010011100100000111111111110100010011111011010010010011010100010111010100010011011000100011101110010100101001011011011100011111001101100010101000100110110001000110010100010100001100101000100110110001000111011100101001010010110000101100100100010010010101001101010001001011011101001000111101011000000110101000110111000111110011011010111100000010101011010100111001110110000010010000001111100000010100010011000110000001011110011101100001110100100100000001110010100110001100011110100000100000110010010111001000101011011110011010010110000111110101101010001001000110000110010111100000000101010110110101110001011000001001001000100110110101111000000111100110110010010000010000110111100000010011011000100010011011110101001000100101100001001010011100100100010011011000100011000011001011110001110111011001001001110111\n"
     ]
    }
   ],
   "source": [
    "mensaje='111110011011000100011111000100011000010001011010100001101111000000111111001011010100100101100111000111011001100111001010011010110110000111011111110100001111011111011100011111101011011100011111101100111000110001000000111111100110111110111110111111111101000111101110010001110100100100000010101011100110001000001101010001100010111111001001000111011001100101100111100001101100100101111111010000010001011010100010110101111000000111010101101011110010011111110001011001001011101110011010100010100011011001111100101000101101110110010111011000010111010100011111010010010100111001001100100001000101101010001001011101101101010000010111100000001101111000000111011111000110100010001000001011111100000111011100011110110100000011101000100010100010011001001000100010011011111000110000000101001010001110010111110110000100110110101111000000101110101101011011111111011101111010111010010011000000111011100111100001000101000100101100000111110100101000100101100000100010110101000111100001110110000011001010001001101100010001110111001010010100101101101100001100101001110011011101011110000001001101100010001100101101000100100011100001110110100100110001111111101101000100011001011011111011001110010010101100110001101110001111011010010000100000111010011001111010100001101111000000101000110110011100101000101101010001111000011101101100100011101100110010110011110000110110010010111111101011011000010011011000100011110000110110100111000110010010101000101110101000100110110001000110000100110100101101001011000010001111001011101000101111000000110101111001110110000010001011010100011101010111100110110000100010111010111100011010110000100011111000111101000001001110101110011110100100011110101000111000001100010011101001110011000000100010010111110101010011100100010011011000100011000110101110001000110111000111011001100101100111100001101100100101111111010000100010010010010111001101010001101010000000111011011010010110101000010001011010100010111010110010110000010000001010100011101110110111010000110001011110011001110000010001010101101010011100100000111111111110100010011111011010010010011010100010111010100010011011000100011101110010100101001011011011100011111001101100010101000100110110001000110010100010100001100101000100110110001000111011100101001010010110000101100100100010010010101001101010001001011011101001000111101011000000110101000110111000111110011011010111100000010101011010100111001110110000010010000001111100000010100010011000110000001011110011101100001110100100100000001110010100110001100011110100000100000110010010111001000101011011110011010010110000111110101101010001001000110000110010111100000000101010110110101110001011000001001001000100110110101111000000111100110110010010000010000110111100000010011011000100010011011110101001000100101100001001010011100100100010011011000100011000011001011110001110111011001001001110111'\n",
    "print(mensaje)"
   ]
  },
  {
   "cell_type": "markdown",
   "id": "stuffed-medium",
   "metadata": {},
   "source": [
    "**Ejemplo**: Símbolos y longitudes de las palabras del código asociadas"
   ]
  },
  {
   "cell_type": "code",
   "execution_count": 93,
   "id": "rental-transsexual",
   "metadata": {
    "execution": {
     "iopub.execute_input": "2021-02-18T15:38:43.180438Z",
     "iopub.status.busy": "2021-02-18T15:38:43.180295Z",
     "iopub.status.idle": "2021-02-18T15:38:43.183530Z",
     "shell.execute_reply": "2021-02-18T15:38:43.183077Z",
     "shell.execute_reply.started": "2021-02-18T15:38:43.180416Z"
    }
   },
   "outputs": [
    {
     "name": "stdout",
     "output_type": "stream",
     "text": [
      "[(' ', 3), (',', 6), ('-', 9), ('.', 6), ('A', 8), ('D', 9), ('G', 9), ('H', 8), ('I', 8), ('M', 7), ('T', 8), ('W', 9), ('[', 9), (']', 9), ('a', 4), ('b', 7), ('c', 5), ('d', 5), ('e', 3), ('f', 7), ('g', 6), ('h', 5), ('i', 5), ('j', 8), ('k', 6), ('l', 5), ('m', 5), ('n', 4), ('o', 4), ('p', 7), ('q', 9), ('r', 4), ('s', 4), ('t', 4), ('u', 5), ('v', 8), ('w', 6), ('x', 9), ('y', 7)]\n"
     ]
    }
   ],
   "source": [
    "Codificacion_para_estudiantes = [(' ', 3), (',', 6), ('-', 9), ('.', 6), ('A', 8), ('D', 9), ('G', 9), ('H', 8), ('I', 8), ('M', 7), ('T', 8), ('W', 9), ('[', 9), (']', 9), ('a', 4), ('b', 7), ('c', 5), ('d', 5), ('e', 3), ('f', 7), ('g', 6), ('h', 5), ('i', 5), ('j', 8), ('k', 6), ('l', 5), ('m', 5), ('n', 4), ('o', 4), ('p', 7), ('q', 9), ('r', 4), ('s', 4), ('t', 4), ('u', 5), ('v', 8), ('w', 6), ('x', 9), ('y', 7)]\n",
    "print(Codificacion_para_estudiantes)"
   ]
  },
  {
   "cell_type": "markdown",
   "id": "analyzed-gregory",
   "metadata": {
    "execution": {
     "iopub.execute_input": "2021-02-18T15:26:49.774667Z",
     "iopub.status.busy": "2021-02-18T15:26:49.774486Z",
     "iopub.status.idle": "2021-02-18T15:26:49.777759Z",
     "shell.execute_reply": "2021-02-18T15:26:49.777104Z",
     "shell.execute_reply.started": "2021-02-18T15:26:49.774647Z"
    }
   },
   "source": [
    "**Ejemplo**: Hallo el código"
   ]
  },
  {
   "cell_type": "code",
   "execution_count": 94,
   "id": "serious-vehicle",
   "metadata": {
    "execution": {
     "iopub.execute_input": "2021-02-18T15:38:43.184273Z",
     "iopub.status.busy": "2021-02-18T15:38:43.184142Z",
     "iopub.status.idle": "2021-02-18T15:38:43.195786Z",
     "shell.execute_reply": "2021-02-18T15:38:43.194991Z",
     "shell.execute_reply.started": "2021-02-18T15:38:43.184258Z"
    }
   },
   "outputs": [
    {
     "name": "stdout",
     "output_type": "stream",
     "text": [
      "{' ': '000', ',': '110110', '-': '111111000', '.': '110111', 'A': '11110110', 'D': '111111001', 'G': '111111010', 'H': '11110111', 'I': '11111000', 'M': '1110110', 'T': '11111001', 'W': '111111011', '[': '111111100', ']': '111111101', 'a': '0100', 'b': '1110111', 'c': '10100', 'd': '10101', 'e': '001', 'f': '1111000', 'g': '111000', 'h': '10110', 'i': '10111', 'j': '11111010', 'k': '111001', 'l': '11000', 'm': '11001', 'n': '0101', 'o': '0110', 'p': '1111001', 'q': '111111110', 'r': '0111', 's': '1000', 't': '1001', 'u': '11010', 'v': '11111011', 'w': '111010', 'x': '111111111', 'y': '1111010'}\n",
      "{'000': ' ', '110110': ',', '111111000': '-', '110111': '.', '11110110': 'A', '111111001': 'D', '111111010': 'G', '11110111': 'H', '11111000': 'I', '1110110': 'M', '11111001': 'T', '111111011': 'W', '111111100': '[', '111111101': ']', '0100': 'a', '1110111': 'b', '10100': 'c', '10101': 'd', '001': 'e', '1111000': 'f', '111000': 'g', '10110': 'h', '10111': 'i', '11111010': 'j', '111001': 'k', '11000': 'l', '11001': 'm', '0101': 'n', '0110': 'o', '1111001': 'p', '111111110': 'q', '0111': 'r', '1000': 's', '1001': 't', '11010': 'u', '11111011': 'v', '111010': 'w', '111111111': 'x', '1111010': 'y'}\n",
      "111110011011000100011111000100011000010001011010100001101111000000111111001011010100100101100111000111011001100111001010011010110110000111011111110100001111011111011100011111101011011100011111101100111000110001000000111111100110111110111110111111111101000111101110010001110100100100000010101011100110001000001101010001100010111111001001000111011001100101100111100001101100100101111111010000010001011010100010110101111000000111010101101011110010011111110001011001001011101110011010100010100011011001111100101000101101110110010111011000010111010100011111010010010100111001001100100001000101101010001001011101101101010000010111100000001101111000000111011111000110100010001000001011111100000111011100011110110100000011101000100010100010011001001000100010011011111000110000000101001010001110010111110110000100110110101111000000101110101101011011111111011101111010111010010011000000111011100111100001000101000100101100000111110100101000100101100000100010110101000111100001110110000011001010001001101100010001110111001010010100101101101100001100101001110011011101011110000001001101100010001100101101000100100011100001110110100100110001111111101101000100011001011011111011001110010010101100110001101110001111011010010000100000111010011001111010100001101111000000101000110110011100101000101101010001111000011101101100100011101100110010110011110000110110010010111111101011011000010011011000100011110000110110100111000110010010101000101110101000100110110001000110000100110100101101001011000010001111001011101000101111000000110101111001110110000010001011010100011101010111100110110000100010111010111100011010110000100011111000111101000001001110101110011110100100011110101000111000001100010011101001110011000000100010010111110101010011100100010011011000100011000110101110001000110111000111011001100101100111100001101100100101111111010000100010010010010111001101010001101010000000111011011010010110101000010001011010100010111010110010110000010000001010100011101110110111010000110001011110011001110000010001010101101010011100100000111111111110100010011111011010010010011010100010111010100010011011000100011101110010100101001011011011100011111001101100010101000100110110001000110010100010100001100101000100110110001000111011100101001010010110000101100100100010010010101001101010001001011011101001000111101011000000110101000110111000111110011011010111100000010101011010100111001110110000010010000001111100000010100010011000110000001011110011101100001110100100100000001110010100110001100011110100000100000110010010111001000101011011110011010010110000111110101101010001001000110000110010111100000000101010110110101110001011000001001001000100110110101111000000111100110110010010000010000110111100000010011011000100010011011110101001000100101100001001010011100100100010011011000100011000011001011110001110111011001001001110111\n",
      "The Island of Doctor Moreau, by H. G. Wells [...] He was dressed like Montgomery and his white-haired companion, in jacket and trousers of blue serge. As we came still nearer, this individual began to run to and fro on the beach, making the most grotesque movements. At a word of command from Montgomery, the four men in the launch sprang up, and with singularly awkward gestures struck the lugs. Montgomery steered us round and into a narrow little dock excavated in the beach. Then the man on the beach hastened towards us. This dock, as I call it, was really a mere ditch just long enough at this phase of the tide to take the longboat.\n",
      "\n",
      "True\n"
     ]
    }
   ],
   "source": [
    "alfabeto=[i[0] for i in Codificacion_para_estudiantes]\n",
    "longitudes=[i[1] for i in Codificacion_para_estudiantes]\n",
    "\n",
    "codigoCanonico=CodeCanonico(longitudes)\n",
    "\n",
    "R=[(i,j) for i,j in zip(alfabeto, codigoCanonico)]\n",
    "\n",
    "# encoding dictionary\n",
    "m2c = dict(R)\n",
    "\n",
    "# decoding dictionary\n",
    "c2m = dict([(c,m) for m, c in m2c.items()])\n",
    "\n",
    "print(m2c)\n",
    "print(c2m)\n",
    "\n",
    "\n",
    "#mensajeCodificado=Encode(mensaje,m2c)\n",
    "mensajeDecodificado=Decode(mensaje,c2m)\n",
    "\n",
    "print(mensaje)\n",
    "#print(mensajeCodificado)\n",
    "print(mensajeDecodificado)\n",
    "print()\n",
    "#print(mensaje==Decode(mensajeCodificado,c2m))\n",
    "print(mensaje==Encode(mensajeDecodificado,m2c))"
   ]
  },
  {
   "cell_type": "code",
   "execution_count": null,
   "id": "expressed-substance",
   "metadata": {},
   "outputs": [],
   "source": []
  }
 ],
 "metadata": {
  "kernelspec": {
   "display_name": "Python 3",
   "language": "python",
   "name": "python3"
  },
  "language_info": {
   "codemirror_mode": {
    "name": "ipython",
    "version": 3
   },
   "file_extension": ".py",
   "mimetype": "text/x-python",
   "name": "python",
   "nbconvert_exporter": "python",
   "pygments_lexer": "ipython3",
   "version": "3.12.0"
  }
 },
 "nbformat": 4,
 "nbformat_minor": 5
}
